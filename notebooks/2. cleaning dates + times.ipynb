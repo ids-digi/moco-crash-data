{
 "cells": [
  {
   "cell_type": "markdown",
   "id": "e2ceac71",
   "metadata": {},
   "source": [
    "# Cleaning the dates and times\n",
    "This script will explain how I cleaned the dates and times of the Monroe County crash data. It will explain the logic that went into the cleaning scripts `clean_datetime.py` and `clean_times.py` in the `cleaning-workflow/cleaning-scripts` folder."
   ]
  },
  {
   "cell_type": "code",
   "execution_count": 1,
   "id": "ef3ed6fa",
   "metadata": {},
   "outputs": [],
   "source": [
    "import pandas as pd\n",
    "import numpy as np\n",
    "import re\n",
    "from datetime import date, time\n",
    "\n",
    "pd.set_option('display.max_columns', None)"
   ]
  },
  {
   "cell_type": "markdown",
   "id": "6c0b59cb",
   "metadata": {},
   "source": [
    "## Standardizing date/time columns\n",
    "The goal is to create a `DateTime` column which is standardized across all of the data files. This will require looking at how the date/time data is structured in each source file, and parsing out strange formats before being able to create this finalized column.\n",
    "\n",
    "So let's see what weird date/time formatting we'll be working with."
   ]
  },
  {
   "cell_type": "code",
   "execution_count": 3,
   "id": "11cec87f",
   "metadata": {},
   "outputs": [
    {
     "data": {
      "text/html": [
       "<div>\n",
       "<style scoped>\n",
       "    .dataframe tbody tr th:only-of-type {\n",
       "        vertical-align: middle;\n",
       "    }\n",
       "\n",
       "    .dataframe tbody tr th {\n",
       "        vertical-align: top;\n",
       "    }\n",
       "\n",
       "    .dataframe thead th {\n",
       "        text-align: right;\n",
       "    }\n",
       "</style>\n",
       "<table border=\"1\" class=\"dataframe\">\n",
       "  <thead>\n",
       "    <tr style=\"text-align: right;\">\n",
       "      <th></th>\n",
       "      <th>Collision Date</th>\n",
       "      <th>Collision Time</th>\n",
       "    </tr>\n",
       "  </thead>\n",
       "  <tbody>\n",
       "    <tr>\n",
       "      <th>0</th>\n",
       "      <td>2021-12-31T00:00:00</td>\n",
       "      <td>12:30 AM</td>\n",
       "    </tr>\n",
       "    <tr>\n",
       "      <th>1</th>\n",
       "      <td>2021-12-31T00:00:00</td>\n",
       "      <td>12:50 AM</td>\n",
       "    </tr>\n",
       "    <tr>\n",
       "      <th>2</th>\n",
       "      <td>2021-12-31T00:00:00</td>\n",
       "      <td>12:31 PM</td>\n",
       "    </tr>\n",
       "    <tr>\n",
       "      <th>3</th>\n",
       "      <td>2021-12-31T00:00:00</td>\n",
       "      <td>10:15 PM</td>\n",
       "    </tr>\n",
       "    <tr>\n",
       "      <th>4</th>\n",
       "      <td>2021-12-30T00:00:00</td>\n",
       "      <td>2:41 AM</td>\n",
       "    </tr>\n",
       "    <tr>\n",
       "      <th>...</th>\n",
       "      <td>...</td>\n",
       "      <td>...</td>\n",
       "    </tr>\n",
       "    <tr>\n",
       "      <th>3052</th>\n",
       "      <td>2021-01-01T00:00:00</td>\n",
       "      <td>7:59 AM</td>\n",
       "    </tr>\n",
       "    <tr>\n",
       "      <th>3053</th>\n",
       "      <td>2021-01-01T00:00:00</td>\n",
       "      <td>9:40 AM</td>\n",
       "    </tr>\n",
       "    <tr>\n",
       "      <th>3054</th>\n",
       "      <td>2021-01-01T00:00:00</td>\n",
       "      <td>9:55 AM</td>\n",
       "    </tr>\n",
       "    <tr>\n",
       "      <th>3055</th>\n",
       "      <td>2021-01-01T00:00:00</td>\n",
       "      <td>10:35 AM</td>\n",
       "    </tr>\n",
       "    <tr>\n",
       "      <th>3056</th>\n",
       "      <td>2021-01-01T00:00:00</td>\n",
       "      <td>11:21 PM</td>\n",
       "    </tr>\n",
       "  </tbody>\n",
       "</table>\n",
       "<p>3057 rows × 2 columns</p>\n",
       "</div>"
      ],
      "text/plain": [
       "           Collision Date Collision Time\n",
       "0     2021-12-31T00:00:00       12:30 AM\n",
       "1     2021-12-31T00:00:00       12:50 AM\n",
       "2     2021-12-31T00:00:00       12:31 PM\n",
       "3     2021-12-31T00:00:00       10:15 PM\n",
       "4     2021-12-30T00:00:00        2:41 AM\n",
       "...                   ...            ...\n",
       "3052  2021-01-01T00:00:00        7:59 AM\n",
       "3053  2021-01-01T00:00:00        9:40 AM\n",
       "3054  2021-01-01T00:00:00        9:55 AM\n",
       "3055  2021-01-01T00:00:00       10:35 AM\n",
       "3056  2021-01-01T00:00:00       11:21 PM\n",
       "\n",
       "[3057 rows x 2 columns]"
      ]
     },
     "execution_count": 3,
     "metadata": {},
     "output_type": "execute_result"
    }
   ],
   "source": [
    "# starting with the 2022 data\n",
    "crash_df = pd.read_csv('../data/source-data/moco-crash-2021.csv')  \n",
    "crash_df[['Collision Date','Collision Time']]"
   ]
  },
  {
   "cell_type": "code",
   "execution_count": 14,
   "id": "ed780e91",
   "metadata": {},
   "outputs": [],
   "source": [
    "def format_search(re_string,string):\n",
    "    return bool(re.search(re_string, string))"
   ]
  },
  {
   "cell_type": "code",
   "execution_count": 16,
   "id": "5f4b0b9c",
   "metadata": {},
   "outputs": [
    {
     "data": {
      "text/plain": [
       "True    3057\n",
       "Name: Collision Date, dtype: int64"
      ]
     },
     "execution_count": 16,
     "metadata": {},
     "output_type": "execute_result"
    }
   ],
   "source": [
    "# how many of the Collision Date entries follow this format?\n",
    "re_search_string = '[\\d]{4}-[\\d]{2}-[\\d]{2}T[\\d]{2}:[\\d]{2}:[\\d]{2}'\n",
    "crash_df['Collision Date'].apply(lambda x: format_search(re_search_string,x)).value_counts()"
   ]
  },
  {
   "cell_type": "markdown",
   "id": "5fa484b8",
   "metadata": {},
   "source": [
    "Looks like every `Collision Date` entry follows the exact same format! Yay. Now let's check the `Collision Time`. "
   ]
  },
  {
   "cell_type": "code",
   "execution_count": 17,
   "id": "c6d757b0",
   "metadata": {},
   "outputs": [
    {
     "data": {
      "text/plain": [
       "True    3057\n",
       "Name: Collision Time, dtype: int64"
      ]
     },
     "execution_count": 17,
     "metadata": {},
     "output_type": "execute_result"
    }
   ],
   "source": [
    "re_search_string = '[\\d]{1,2}:[\\d]{2} [AP]M'\n",
    "crash_df['Collision Time'].apply(lambda x: format_search(re_search_string,x)).value_counts()"
   ]
  },
  {
   "cell_type": "markdown",
   "id": "9cbba6f0",
   "metadata": {},
   "source": [
    "Same for `Collision Time`. Knowing the format is consistent, we can now apply a simple cleaning function to create a combined `DateTime` field."
   ]
  },
  {
   "cell_type": "code",
   "execution_count": 20,
   "id": "36b3bbf1",
   "metadata": {},
   "outputs": [],
   "source": [
    "# given a date string (`Collision Date` field) and a time string (`Collision Time` field),\n",
    "def get_datetime(date_string, time_string):\n",
    "    time_string = str(time_string)\n",
    "    # combine the date and time into one `datetime` object\n",
    "    date_val = date(pd.to_datetime(date_string).year,\n",
    "                 pd.to_datetime(date_string).month,\n",
    "                 pd.to_datetime(date_string).day\n",
    "                 )\n",
    "    if time_string:\n",
    "        # if the time string is `NaN`, set it to midnight\n",
    "        try:\n",
    "            time_val = time(pd.to_datetime(time_string).hour,\n",
    "                      pd.to_datetime(time_string).minute\n",
    "                     )\n",
    "        except:\n",
    "            time_val = time(0,0,0)\n",
    "        \n",
    "    return(pd.Timestamp.combine(date_val,time_val))\n",
    "                            "
   ]
  },
  {
   "cell_type": "code",
   "execution_count": 30,
   "id": "7bb5de1e",
   "metadata": {},
   "outputs": [
    {
     "data": {
      "text/plain": [
       "0      2021-12-31 00:30:00\n",
       "1      2021-12-31 00:50:00\n",
       "2      2021-12-31 12:31:00\n",
       "3      2021-12-31 22:15:00\n",
       "4      2021-12-30 02:41:00\n",
       "               ...        \n",
       "3052   2021-01-01 07:59:00\n",
       "3053   2021-01-01 09:40:00\n",
       "3054   2021-01-01 09:55:00\n",
       "3055   2021-01-01 10:35:00\n",
       "3056   2021-01-01 23:21:00\n",
       "Name: DateTime, Length: 3057, dtype: datetime64[ns]"
      ]
     },
     "execution_count": 30,
     "metadata": {},
     "output_type": "execute_result"
    }
   ],
   "source": [
    "crash_df['DateTime'] = crash_df.apply(lambda row: get_datetime(row['Collision Date'], row['Collision Time']), axis=1)\n",
    "crash_df['DateTime']"
   ]
  },
  {
   "cell_type": "markdown",
   "id": "ece6774a",
   "metadata": {},
   "source": [
    "## More complex/weird date/time formats\n",
    "The first few `csv`s had simple date/time formats, but the older data is trickier. Let's figure out how to clean this.\n",
    "\n",
    "### 2013-2018 data"
   ]
  },
  {
   "cell_type": "code",
   "execution_count": 4,
   "id": "6c815766",
   "metadata": {
    "scrolled": false
   },
   "outputs": [
    {
     "data": {
      "text/html": [
       "<div>\n",
       "<style scoped>\n",
       "    .dataframe tbody tr th:only-of-type {\n",
       "        vertical-align: middle;\n",
       "    }\n",
       "\n",
       "    .dataframe tbody tr th {\n",
       "        vertical-align: top;\n",
       "    }\n",
       "\n",
       "    .dataframe thead th {\n",
       "        text-align: right;\n",
       "    }\n",
       "</style>\n",
       "<table border=\"1\" class=\"dataframe\">\n",
       "  <thead>\n",
       "    <tr style=\"text-align: right;\">\n",
       "      <th></th>\n",
       "      <th>DATE</th>\n",
       "      <th>TIME</th>\n",
       "    </tr>\n",
       "  </thead>\n",
       "  <tbody>\n",
       "    <tr>\n",
       "      <th>0</th>\n",
       "      <td>7/30/2014</td>\n",
       "      <td>1:16 AM</td>\n",
       "    </tr>\n",
       "    <tr>\n",
       "      <th>1</th>\n",
       "      <td>5/11/2015</td>\n",
       "      <td>9:50 AM</td>\n",
       "    </tr>\n",
       "    <tr>\n",
       "      <th>2</th>\n",
       "      <td>1/4/2016</td>\n",
       "      <td>2:06 PM</td>\n",
       "    </tr>\n",
       "    <tr>\n",
       "      <th>3</th>\n",
       "      <td>6/14/2016</td>\n",
       "      <td>3:00 PM</td>\n",
       "    </tr>\n",
       "    <tr>\n",
       "      <th>4</th>\n",
       "      <td>8/6/2013</td>\n",
       "      <td>1340</td>\n",
       "    </tr>\n",
       "    <tr>\n",
       "      <th>...</th>\n",
       "      <td>...</td>\n",
       "      <td>...</td>\n",
       "    </tr>\n",
       "    <tr>\n",
       "      <th>22406</th>\n",
       "      <td>11/16/2018</td>\n",
       "      <td>5:58 PM</td>\n",
       "    </tr>\n",
       "    <tr>\n",
       "      <th>22407</th>\n",
       "      <td>12/12/2015</td>\n",
       "      <td>3:21 AM</td>\n",
       "    </tr>\n",
       "    <tr>\n",
       "      <th>22408</th>\n",
       "      <td>11/6/2017</td>\n",
       "      <td>7:50 AM</td>\n",
       "    </tr>\n",
       "    <tr>\n",
       "      <th>22409</th>\n",
       "      <td>6/16/2016</td>\n",
       "      <td>7:28 PM</td>\n",
       "    </tr>\n",
       "    <tr>\n",
       "      <th>22410</th>\n",
       "      <td>12/19/2015</td>\n",
       "      <td>1:44 AM</td>\n",
       "    </tr>\n",
       "  </tbody>\n",
       "</table>\n",
       "<p>22411 rows × 2 columns</p>\n",
       "</div>"
      ],
      "text/plain": [
       "             DATE     TIME\n",
       "0       7/30/2014  1:16 AM\n",
       "1       5/11/2015  9:50 AM\n",
       "2        1/4/2016  2:06 PM\n",
       "3       6/14/2016  3:00 PM\n",
       "4        8/6/2013     1340\n",
       "...           ...      ...\n",
       "22406  11/16/2018  5:58 PM\n",
       "22407  12/12/2015  3:21 AM\n",
       "22408   11/6/2017  7:50 AM\n",
       "22409   6/16/2016  7:28 PM\n",
       "22410  12/19/2015  1:44 AM\n",
       "\n",
       "[22411 rows x 2 columns]"
      ]
     },
     "execution_count": 4,
     "metadata": {},
     "output_type": "execute_result"
    }
   ],
   "source": [
    "# starting with the 2013-2018 data\n",
    "crash_df_1318 = pd.read_csv('../data/source-data/moco-crash-2013-2018.csv', encoding='unicode_escape')  \n",
    "crash_df_1318[['DATE', 'TIME']]"
   ]
  },
  {
   "cell_type": "markdown",
   "id": "6b5bfe48",
   "metadata": {},
   "source": [
    "Let's check the date/time formats."
   ]
  },
  {
   "cell_type": "code",
   "execution_count": 38,
   "id": "643287e4",
   "metadata": {},
   "outputs": [
    {
     "data": {
      "text/plain": [
       "True    22411\n",
       "Name: DATE, dtype: int64"
      ]
     },
     "execution_count": 38,
     "metadata": {},
     "output_type": "execute_result"
    }
   ],
   "source": [
    "# how many of the DATE entries follow the #/#/#### format?\n",
    "re_search_string = '[\\d]{1,2}\\/[\\d]{1,2}\\/[\\d]{4}'\n",
    "crash_df_1318['DATE'].apply(lambda x: format_search(re_search_string,x)).value_counts()"
   ]
  },
  {
   "cell_type": "code",
   "execution_count": 39,
   "id": "8dc5684e",
   "metadata": {},
   "outputs": [
    {
     "data": {
      "text/plain": [
       "True     19350\n",
       "False     3061\n",
       "Name: TIME, dtype: int64"
      ]
     },
     "execution_count": 39,
     "metadata": {},
     "output_type": "execute_result"
    }
   ],
   "source": [
    "# how many of the TIME entries follow the #:## AM format?\n",
    "re_search_string = '[\\d]{1,2}:[\\d]{2} [AP]M'\n",
    "crash_df_1318['TIME'].apply(lambda x: format_search(re_search_string,x)).value_counts()"
   ]
  },
  {
   "cell_type": "markdown",
   "id": "d4de6d0a",
   "metadata": {},
   "source": [
    "Uh-oh, > 13% of entries don't follow that format. Let's see what the other formats are."
   ]
  },
  {
   "cell_type": "code",
   "execution_count": 52,
   "id": "4abbab4d",
   "metadata": {},
   "outputs": [
    {
     "data": {
      "text/plain": [
       "4732      853\n",
       "12527    2225\n",
       "10329    2047\n",
       "3053     1730\n",
       "11356    1713\n",
       "2468     1930\n",
       "6245     2341\n",
       "12831    2232\n",
       "4022     2200\n",
       "10402    2107\n",
       "Name: TIME, dtype: object"
      ]
     },
     "execution_count": 52,
     "metadata": {},
     "output_type": "execute_result"
    }
   ],
   "source": [
    "crash_df_1318['flag'] = crash_df_1318['TIME'].apply(lambda x: format_search(re_search_string,x))\n",
    "crash_df_1318[crash_df_1318['flag'] == False]['TIME'].sample(10)"
   ]
  },
  {
   "cell_type": "code",
   "execution_count": 54,
   "id": "49a2f67d",
   "metadata": {},
   "outputs": [],
   "source": [
    "# now drop the flag col\n",
    "crash_df_1318 = crash_df_1318.drop(columns=['flag'])"
   ]
  },
  {
   "cell_type": "markdown",
   "id": "7e012f2e",
   "metadata": {},
   "source": [
    "It appears that most of them are either 3 or 4 digit numbers. For cleaning purposes, I will assume that a three-digit number like `853` means `8:53 AM`, and a four-digit number like `2341` means `11:41 PM` (military time). \n",
    "\n",
    "Let's check if that covers the remaining formats, and then make a new cleaning script to deal with this variation."
   ]
  },
  {
   "cell_type": "code",
   "execution_count": 65,
   "id": "87cc1782",
   "metadata": {},
   "outputs": [
    {
     "data": {
      "text/plain": [
       "False    19410\n",
       "True      3001\n",
       "Name: TIME, dtype: int64"
      ]
     },
     "execution_count": 65,
     "metadata": {},
     "output_type": "execute_result"
    }
   ],
   "source": [
    "# how many of the TIME entries follow the #:## AM format?\n",
    "re_search_string = '[\\d]{3,4}'\n",
    "crash_df_1318['TIME'].apply(lambda x: format_search(re_search_string,x)).value_counts()"
   ]
  },
  {
   "cell_type": "markdown",
   "id": "2d908454",
   "metadata": {},
   "source": [
    "Looks like this takes care of most of the 3061 values that didn't match the first format. Let's go ahead with the plan of cleaning these like military time."
   ]
  },
  {
   "cell_type": "code",
   "execution_count": 67,
   "id": "f8c311c2",
   "metadata": {},
   "outputs": [],
   "source": [
    "# Function to clean the times\n",
    "def clean_military_time(Time):\n",
    "    \n",
    "    # Search for 3- or 4-digit times\n",
    "    # these are in military time. so need to be converted to regular time to match the rest.\n",
    "    if re.search('\\d{3,4}', Time):\n",
    "        \n",
    "        # ex 1230, 1024\n",
    "        if len(Time) == 4:\n",
    "            if int(Time[0:2])>12:\n",
    "                return str(int(Time[0:2]) - 12) + \":\" + Time[2:4] + \" PM\"\n",
    "            elif Time[0:2] == '12':\n",
    "                return Time[0:2] + \":\" + Time[2:4] + \" PM\"\n",
    "            else:\n",
    "                return Time[0:2] + \":\" + Time[2:4] + \" AM\"\n",
    "            \n",
    "        # ex 130, 930, 725\n",
    "        if len(Time) == 3:\n",
    "            if Time[0:1] == '0':\n",
    "                return \"12:\" + Time[1:3] + \" AM\"\n",
    "            else:\n",
    "                return Time[0:1] + \":\" + Time[1:3] + \" AM\" \n",
    "        return Time\n",
    "    else:\n",
    "        # if clean up not needed, return the same name\n",
    "        return Time"
   ]
  },
  {
   "cell_type": "code",
   "execution_count": 68,
   "id": "e9841b99",
   "metadata": {},
   "outputs": [],
   "source": [
    "# remove all times with one or two digit numbers \n",
    "def wrong_times_to_nan(Time):\n",
    "    if not re.search('\\d{1,2}:\\d{2} [A,P]M', Time):\n",
    "        return float('NaN')\n",
    "    else:\n",
    "        return Time"
   ]
  },
  {
   "cell_type": "code",
   "execution_count": 69,
   "id": "5420a7e1",
   "metadata": {},
   "outputs": [],
   "source": [
    "crash_df_1318['TIME'] = crash_df_1318['TIME'].apply(clean_military_time)\n",
    "crash_df_1318['TIME'] = crash_df_1318['TIME'].apply(wrong_times_to_nan)"
   ]
  },
  {
   "cell_type": "code",
   "execution_count": 72,
   "id": "3ce56c90",
   "metadata": {},
   "outputs": [
    {
     "data": {
      "text/plain": [
       "True     22351\n",
       "False       60\n",
       "Name: TIME, dtype: int64"
      ]
     },
     "execution_count": 72,
     "metadata": {},
     "output_type": "execute_result"
    }
   ],
   "source": [
    "# how many follow the am/pm format now?\n",
    "re_search_string = '[\\d]{1,2}:[\\d]{2} [AP]M'\n",
    "crash_df_1318['TIME'].apply(lambda x: format_search(re_search_string,str(x))).value_counts()"
   ]
  },
  {
   "cell_type": "markdown",
   "id": "523c9acc",
   "metadata": {},
   "source": [
    "Now the vast majority are cleaned. This allows us to run the `DateTime` formula from above, now that the time/date values are standardized."
   ]
  },
  {
   "cell_type": "code",
   "execution_count": 73,
   "id": "466d6cc1",
   "metadata": {},
   "outputs": [
    {
     "data": {
      "text/plain": [
       "0       2014-07-30 01:16:00\n",
       "1       2015-05-11 09:50:00\n",
       "2       2016-01-04 14:06:00\n",
       "3       2016-06-14 15:00:00\n",
       "4       2013-08-06 13:40:00\n",
       "                ...        \n",
       "22406   2018-11-16 17:58:00\n",
       "22407   2015-12-12 03:21:00\n",
       "22408   2017-11-06 07:50:00\n",
       "22409   2016-06-16 19:28:00\n",
       "22410   2015-12-19 01:44:00\n",
       "Name: DateTime, Length: 22411, dtype: datetime64[ns]"
      ]
     },
     "execution_count": 73,
     "metadata": {},
     "output_type": "execute_result"
    }
   ],
   "source": [
    "crash_df_1318['DateTime'] = crash_df_1318.apply(lambda row: get_datetime(row['DATE'], row['TIME']), axis=1)\n",
    "crash_df_1318['DateTime']"
   ]
  },
  {
   "cell_type": "markdown",
   "id": "57d56c63",
   "metadata": {},
   "source": [
    "### 2003-2015 data"
   ]
  },
  {
   "cell_type": "code",
   "execution_count": 5,
   "id": "23c12973",
   "metadata": {},
   "outputs": [
    {
     "data": {
      "text/html": [
       "<div>\n",
       "<style scoped>\n",
       "    .dataframe tbody tr th:only-of-type {\n",
       "        vertical-align: middle;\n",
       "    }\n",
       "\n",
       "    .dataframe tbody tr th {\n",
       "        vertical-align: top;\n",
       "    }\n",
       "\n",
       "    .dataframe thead th {\n",
       "        text-align: right;\n",
       "    }\n",
       "</style>\n",
       "<table border=\"1\" class=\"dataframe\">\n",
       "  <thead>\n",
       "    <tr style=\"text-align: right;\">\n",
       "      <th></th>\n",
       "      <th>Year</th>\n",
       "      <th>Month</th>\n",
       "      <th>Day</th>\n",
       "      <th>Hour</th>\n",
       "    </tr>\n",
       "  </thead>\n",
       "  <tbody>\n",
       "    <tr>\n",
       "      <th>0</th>\n",
       "      <td>2015</td>\n",
       "      <td>1</td>\n",
       "      <td>5</td>\n",
       "      <td>0.0</td>\n",
       "    </tr>\n",
       "    <tr>\n",
       "      <th>1</th>\n",
       "      <td>2015</td>\n",
       "      <td>1</td>\n",
       "      <td>6</td>\n",
       "      <td>1500.0</td>\n",
       "    </tr>\n",
       "    <tr>\n",
       "      <th>2</th>\n",
       "      <td>2015</td>\n",
       "      <td>1</td>\n",
       "      <td>6</td>\n",
       "      <td>2300.0</td>\n",
       "    </tr>\n",
       "    <tr>\n",
       "      <th>3</th>\n",
       "      <td>2015</td>\n",
       "      <td>1</td>\n",
       "      <td>7</td>\n",
       "      <td>900.0</td>\n",
       "    </tr>\n",
       "    <tr>\n",
       "      <th>4</th>\n",
       "      <td>2015</td>\n",
       "      <td>1</td>\n",
       "      <td>7</td>\n",
       "      <td>1100.0</td>\n",
       "    </tr>\n",
       "    <tr>\n",
       "      <th>...</th>\n",
       "      <td>...</td>\n",
       "      <td>...</td>\n",
       "      <td>...</td>\n",
       "      <td>...</td>\n",
       "    </tr>\n",
       "    <tr>\n",
       "      <th>53938</th>\n",
       "      <td>2003</td>\n",
       "      <td>10</td>\n",
       "      <td>6</td>\n",
       "      <td>1700.0</td>\n",
       "    </tr>\n",
       "    <tr>\n",
       "      <th>53939</th>\n",
       "      <td>2003</td>\n",
       "      <td>11</td>\n",
       "      <td>3</td>\n",
       "      <td>800.0</td>\n",
       "    </tr>\n",
       "    <tr>\n",
       "      <th>53940</th>\n",
       "      <td>2003</td>\n",
       "      <td>12</td>\n",
       "      <td>5</td>\n",
       "      <td>1200.0</td>\n",
       "    </tr>\n",
       "    <tr>\n",
       "      <th>53941</th>\n",
       "      <td>2003</td>\n",
       "      <td>12</td>\n",
       "      <td>1</td>\n",
       "      <td>700.0</td>\n",
       "    </tr>\n",
       "    <tr>\n",
       "      <th>53942</th>\n",
       "      <td>2003</td>\n",
       "      <td>12</td>\n",
       "      <td>7</td>\n",
       "      <td>1700.0</td>\n",
       "    </tr>\n",
       "  </tbody>\n",
       "</table>\n",
       "<p>53943 rows × 4 columns</p>\n",
       "</div>"
      ],
      "text/plain": [
       "       Year  Month  Day    Hour\n",
       "0      2015      1    5     0.0\n",
       "1      2015      1    6  1500.0\n",
       "2      2015      1    6  2300.0\n",
       "3      2015      1    7   900.0\n",
       "4      2015      1    7  1100.0\n",
       "...     ...    ...  ...     ...\n",
       "53938  2003     10    6  1700.0\n",
       "53939  2003     11    3   800.0\n",
       "53940  2003     12    5  1200.0\n",
       "53941  2003     12    1   700.0\n",
       "53942  2003     12    7  1700.0\n",
       "\n",
       "[53943 rows x 4 columns]"
      ]
     },
     "execution_count": 5,
     "metadata": {},
     "output_type": "execute_result"
    }
   ],
   "source": [
    "# starting with the 2013-2018 data\n",
    "crash_df_0315 = pd.read_csv('../data/source-data/moco-crash-2003-2015.csv', encoding='unicode_escape')  \n",
    "crash_df_0315[['Year','Month','Day','Hour']]"
   ]
  },
  {
   "cell_type": "markdown",
   "id": "74c887d8",
   "metadata": {},
   "source": [
    "The 2003-2015 data uses yet another different format, logging each part of the date/time in its own column. This won't be too hard to convert into a date, but the `Hour` format will need its own custom cleaning function to make sense as a real time."
   ]
  },
  {
   "cell_type": "code",
   "execution_count": 81,
   "id": "bedeb26b",
   "metadata": {},
   "outputs": [],
   "source": [
    "def is_float(val):\n",
    "    return isinstance(val, float)"
   ]
  },
  {
   "cell_type": "code",
   "execution_count": 83,
   "id": "7fd7a27f",
   "metadata": {},
   "outputs": [
    {
     "data": {
      "text/plain": [
       "True    53943\n",
       "Name: Hour, dtype: int64"
      ]
     },
     "execution_count": 83,
     "metadata": {},
     "output_type": "execute_result"
    }
   ],
   "source": [
    "# are all the `Hour` values floats?\n",
    "crash_df_0315['Hour'].apply(is_float).value_counts()"
   ]
  },
  {
   "cell_type": "code",
   "execution_count": 86,
   "id": "81df4925",
   "metadata": {},
   "outputs": [],
   "source": [
    "def clean_float_times(hour_string):\n",
    "    # test if float exists\n",
    "    if hour_string == hour_string:\n",
    "        return str(time(int(hour_string / 100)))"
   ]
  },
  {
   "cell_type": "code",
   "execution_count": 90,
   "id": "62902331",
   "metadata": {},
   "outputs": [],
   "source": [
    "crash_df_0315['Collision Time'] = crash_df_0315['Hour'].apply(clean_float_times)"
   ]
  },
  {
   "cell_type": "code",
   "execution_count": 91,
   "id": "7ee300d5",
   "metadata": {},
   "outputs": [
    {
     "data": {
      "text/plain": [
       "True     53718\n",
       "False      225\n",
       "Name: Collision Time, dtype: int64"
      ]
     },
     "execution_count": 91,
     "metadata": {},
     "output_type": "execute_result"
    }
   ],
   "source": [
    "# did this work for most values? \n",
    "# how many follow the am/pm format now?\n",
    "re_search_string = '[\\d]{1,2}:[\\d]{2}:00'\n",
    "crash_df_0315['Collision Time'].apply(lambda x: format_search(re_search_string,str(x))).value_counts()"
   ]
  },
  {
   "cell_type": "markdown",
   "id": "ef5776f3",
   "metadata": {},
   "source": [
    "That took care of most of the times. Now, let's form a `DateTime` column just like the others."
   ]
  },
  {
   "cell_type": "code",
   "execution_count": 104,
   "id": "a98871a5",
   "metadata": {},
   "outputs": [],
   "source": [
    "crash_df_0315['Collision Date'] = pd.to_datetime(crash_df_0315[['Year', 'Month', 'Day']])"
   ]
  },
  {
   "cell_type": "code",
   "execution_count": 106,
   "id": "e2769c45",
   "metadata": {},
   "outputs": [],
   "source": [
    "crash_df_0315['DateTime'] = crash_df_0315.apply(lambda x: get_datetime(x['Collision Date'], x['Collision Time']), axis=1)"
   ]
  },
  {
   "cell_type": "code",
   "execution_count": 110,
   "id": "6cad7a09",
   "metadata": {},
   "outputs": [],
   "source": [
    "# now drop the cols that were used to create datetime, since they're no longer useful\n",
    "crash_df_0315 = crash_df_0315.drop(columns=[\"Year\",\"Month\",\"Day\",\"Weekend?\",\"Hour\",\"Collision Time\",\"Collision Date\"])"
   ]
  },
  {
   "cell_type": "code",
   "execution_count": 111,
   "id": "620e7bac",
   "metadata": {
    "scrolled": false
   },
   "outputs": [
    {
     "data": {
      "text/html": [
       "<div>\n",
       "<style scoped>\n",
       "    .dataframe tbody tr th:only-of-type {\n",
       "        vertical-align: middle;\n",
       "    }\n",
       "\n",
       "    .dataframe tbody tr th {\n",
       "        vertical-align: top;\n",
       "    }\n",
       "\n",
       "    .dataframe thead th {\n",
       "        text-align: right;\n",
       "    }\n",
       "</style>\n",
       "<table border=\"1\" class=\"dataframe\">\n",
       "  <thead>\n",
       "    <tr style=\"text-align: right;\">\n",
       "      <th></th>\n",
       "      <th>Master Record Number</th>\n",
       "      <th>Collision Type</th>\n",
       "      <th>Injury Type</th>\n",
       "      <th>Primary Factor</th>\n",
       "      <th>Reported_Location</th>\n",
       "      <th>Latitude</th>\n",
       "      <th>Longitude</th>\n",
       "      <th>DateTime</th>\n",
       "    </tr>\n",
       "  </thead>\n",
       "  <tbody>\n",
       "    <tr>\n",
       "      <th>0</th>\n",
       "      <td>902363382</td>\n",
       "      <td>2-Car</td>\n",
       "      <td>No injury/unknown</td>\n",
       "      <td>OTHER (DRIVER) - EXPLAIN IN NARRATIVE</td>\n",
       "      <td>1ST &amp; FESS</td>\n",
       "      <td>39.159207</td>\n",
       "      <td>-86.525874</td>\n",
       "      <td>2015-01-05 00:00:00</td>\n",
       "    </tr>\n",
       "    <tr>\n",
       "      <th>1</th>\n",
       "      <td>902364268</td>\n",
       "      <td>2-Car</td>\n",
       "      <td>No injury/unknown</td>\n",
       "      <td>FOLLOWING TOO CLOSELY</td>\n",
       "      <td>2ND &amp; COLLEGE</td>\n",
       "      <td>39.161440</td>\n",
       "      <td>-86.534848</td>\n",
       "      <td>2015-01-06 15:00:00</td>\n",
       "    </tr>\n",
       "    <tr>\n",
       "      <th>2</th>\n",
       "      <td>902364412</td>\n",
       "      <td>2-Car</td>\n",
       "      <td>Non-incapacitating</td>\n",
       "      <td>DISREGARD SIGNAL/REG SIGN</td>\n",
       "      <td>BASSWOOD &amp; BLOOMFIELD</td>\n",
       "      <td>39.149780</td>\n",
       "      <td>-86.568890</td>\n",
       "      <td>2015-01-06 23:00:00</td>\n",
       "    </tr>\n",
       "    <tr>\n",
       "      <th>3</th>\n",
       "      <td>902364551</td>\n",
       "      <td>2-Car</td>\n",
       "      <td>Non-incapacitating</td>\n",
       "      <td>FAILURE TO YIELD RIGHT OF WAY</td>\n",
       "      <td>GATES &amp; JACOBS</td>\n",
       "      <td>39.165655</td>\n",
       "      <td>-86.575956</td>\n",
       "      <td>2015-01-07 09:00:00</td>\n",
       "    </tr>\n",
       "    <tr>\n",
       "      <th>4</th>\n",
       "      <td>902364615</td>\n",
       "      <td>2-Car</td>\n",
       "      <td>No injury/unknown</td>\n",
       "      <td>FAILURE TO YIELD RIGHT OF WAY</td>\n",
       "      <td>W 3RD</td>\n",
       "      <td>39.164848</td>\n",
       "      <td>-86.579625</td>\n",
       "      <td>2015-01-07 11:00:00</td>\n",
       "    </tr>\n",
       "    <tr>\n",
       "      <th>...</th>\n",
       "      <td>...</td>\n",
       "      <td>...</td>\n",
       "      <td>...</td>\n",
       "      <td>...</td>\n",
       "      <td>...</td>\n",
       "      <td>...</td>\n",
       "      <td>...</td>\n",
       "      <td>...</td>\n",
       "    </tr>\n",
       "    <tr>\n",
       "      <th>53938</th>\n",
       "      <td>900084526</td>\n",
       "      <td>2-Car</td>\n",
       "      <td>No injury/unknown</td>\n",
       "      <td>IMPROPER LANE USAGE</td>\n",
       "      <td>DUNN &amp; WHITE LOT WEST</td>\n",
       "      <td>0.000000</td>\n",
       "      <td>0.000000</td>\n",
       "      <td>2003-10-06 17:00:00</td>\n",
       "    </tr>\n",
       "    <tr>\n",
       "      <th>53939</th>\n",
       "      <td>900089213</td>\n",
       "      <td>1-Car</td>\n",
       "      <td>No injury/unknown</td>\n",
       "      <td>UNSAFE SPEED</td>\n",
       "      <td>RED OAK &amp; SR446</td>\n",
       "      <td>0.000000</td>\n",
       "      <td>0.000000</td>\n",
       "      <td>2003-11-03 08:00:00</td>\n",
       "    </tr>\n",
       "    <tr>\n",
       "      <th>53940</th>\n",
       "      <td>900095322</td>\n",
       "      <td>2-Car</td>\n",
       "      <td>No injury/unknown</td>\n",
       "      <td>BRAKE FAILURE OR DEFECTIVE</td>\n",
       "      <td>2ND ST &amp; WALNUT</td>\n",
       "      <td>0.000000</td>\n",
       "      <td>0.000000</td>\n",
       "      <td>2003-12-05 12:00:00</td>\n",
       "    </tr>\n",
       "    <tr>\n",
       "      <th>53941</th>\n",
       "      <td>900099922</td>\n",
       "      <td>2-Car</td>\n",
       "      <td>No injury/unknown</td>\n",
       "      <td>UNSAFE BACKING</td>\n",
       "      <td>NINETH &amp; NORTH</td>\n",
       "      <td>0.000000</td>\n",
       "      <td>0.000000</td>\n",
       "      <td>2003-12-01 07:00:00</td>\n",
       "    </tr>\n",
       "    <tr>\n",
       "      <th>53942</th>\n",
       "      <td>900109291</td>\n",
       "      <td>2-Car</td>\n",
       "      <td>Non-incapacitating</td>\n",
       "      <td>OTHER (DRIVER) - EXPLAIN IN NARRATIVE</td>\n",
       "      <td>MONROW &amp; THIRD ST</td>\n",
       "      <td>0.000000</td>\n",
       "      <td>0.000000</td>\n",
       "      <td>2003-12-07 17:00:00</td>\n",
       "    </tr>\n",
       "  </tbody>\n",
       "</table>\n",
       "<p>53943 rows × 8 columns</p>\n",
       "</div>"
      ],
      "text/plain": [
       "       Master Record Number Collision Type         Injury Type  \\\n",
       "0                 902363382          2-Car   No injury/unknown   \n",
       "1                 902364268          2-Car   No injury/unknown   \n",
       "2                 902364412          2-Car  Non-incapacitating   \n",
       "3                 902364551          2-Car  Non-incapacitating   \n",
       "4                 902364615          2-Car   No injury/unknown   \n",
       "...                     ...            ...                 ...   \n",
       "53938             900084526          2-Car   No injury/unknown   \n",
       "53939             900089213          1-Car   No injury/unknown   \n",
       "53940             900095322          2-Car   No injury/unknown   \n",
       "53941             900099922          2-Car   No injury/unknown   \n",
       "53942             900109291          2-Car  Non-incapacitating   \n",
       "\n",
       "                              Primary Factor      Reported_Location  \\\n",
       "0      OTHER (DRIVER) - EXPLAIN IN NARRATIVE             1ST & FESS   \n",
       "1                      FOLLOWING TOO CLOSELY          2ND & COLLEGE   \n",
       "2                  DISREGARD SIGNAL/REG SIGN  BASSWOOD & BLOOMFIELD   \n",
       "3              FAILURE TO YIELD RIGHT OF WAY         GATES & JACOBS   \n",
       "4              FAILURE TO YIELD RIGHT OF WAY                  W 3RD   \n",
       "...                                      ...                    ...   \n",
       "53938                    IMPROPER LANE USAGE  DUNN & WHITE LOT WEST   \n",
       "53939                           UNSAFE SPEED        RED OAK & SR446   \n",
       "53940             BRAKE FAILURE OR DEFECTIVE        2ND ST & WALNUT   \n",
       "53941                         UNSAFE BACKING         NINETH & NORTH   \n",
       "53942  OTHER (DRIVER) - EXPLAIN IN NARRATIVE      MONROW & THIRD ST   \n",
       "\n",
       "        Latitude  Longitude            DateTime  \n",
       "0      39.159207 -86.525874 2015-01-05 00:00:00  \n",
       "1      39.161440 -86.534848 2015-01-06 15:00:00  \n",
       "2      39.149780 -86.568890 2015-01-06 23:00:00  \n",
       "3      39.165655 -86.575956 2015-01-07 09:00:00  \n",
       "4      39.164848 -86.579625 2015-01-07 11:00:00  \n",
       "...          ...        ...                 ...  \n",
       "53938   0.000000   0.000000 2003-10-06 17:00:00  \n",
       "53939   0.000000   0.000000 2003-11-03 08:00:00  \n",
       "53940   0.000000   0.000000 2003-12-05 12:00:00  \n",
       "53941   0.000000   0.000000 2003-12-01 07:00:00  \n",
       "53942   0.000000   0.000000 2003-12-07 17:00:00  \n",
       "\n",
       "[53943 rows x 8 columns]"
      ]
     },
     "execution_count": 111,
     "metadata": {},
     "output_type": "execute_result"
    }
   ],
   "source": [
    "crash_df_0315"
   ]
  },
  {
   "cell_type": "markdown",
   "id": "5c387060",
   "metadata": {},
   "source": [
    "## The end\n",
    "Now the `DateTime` field is consistent across all the source data, and can be used for mapping and other analysis more easily.\n"
   ]
  }
 ],
 "metadata": {
  "kernelspec": {
   "display_name": "Python 3 (ipykernel)",
   "language": "python",
   "name": "python3"
  },
  "language_info": {
   "codemirror_mode": {
    "name": "ipython",
    "version": 3
   },
   "file_extension": ".py",
   "mimetype": "text/x-python",
   "name": "python",
   "nbconvert_exporter": "python",
   "pygments_lexer": "ipython3",
   "version": "3.9.12"
  }
 },
 "nbformat": 4,
 "nbformat_minor": 5
}
