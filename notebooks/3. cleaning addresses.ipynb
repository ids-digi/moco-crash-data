{
 "cells": [
  {
   "cell_type": "markdown",
   "id": "77807fb4",
   "metadata": {},
   "source": [
    "# Cleaning the street addresses\n",
    "This script will standardize the street addresses used in the Monroe County crash data. There are two fields with addresses, `Roadway Id` and `Intersecting Road`, which are used to indicate the location of each crash. The fields are not standardized when they are entered by law enforcement, so there is a lot of variation in how each road name is entered. For example, `ST RD 37` could be `SR37`, `STATE ROAD 37`, `STRD37`, `S R 37`, `OLD STATE ROAD 37`, etc. \n",
    "\n",
    "For most analysis, looking at a map of the points encoded with the `Latitude` and `Longitude` fields is the best approach, because the `Roadway Id` and `Intersecting Road` fields aren't always filled out based on the same information. For example, if a crash occurred on DUNN ST, 200 feet from the nearest intersection of 2ND ST & DUNN ST, some law enforcement officers might note the `Intersecting Road` as 2ND ST, while others might leave it blank and rely on geolocation to show the precise spot. \n",
    "\n",
    "While `Latitude` and `Longitude` are usually more useful, it is still useful to clean the intersection names, because this allows for easier analysis of the most dangerous intersections.\n",
    "\n",
    "This script explains the logic that went into the cleaning script `clean_addresses.py` in the `cleaning-workflow/cleaning-scripts` folder."
   ]
  },
  {
   "cell_type": "code",
   "execution_count": 1,
   "id": "5d83ef96",
   "metadata": {},
   "outputs": [],
   "source": [
    "import pandas as pd\n",
    "import numpy as np\n",
    "import re\n",
    "\n",
    "pd.set_option('display.max_columns', None)"
   ]
  },
  {
   "cell_type": "code",
   "execution_count": 2,
   "id": "debe4ec5",
   "metadata": {},
   "outputs": [
    {
     "data": {
      "text/html": [
       "<div>\n",
       "<style scoped>\n",
       "    .dataframe tbody tr th:only-of-type {\n",
       "        vertical-align: middle;\n",
       "    }\n",
       "\n",
       "    .dataframe tbody tr th {\n",
       "        vertical-align: top;\n",
       "    }\n",
       "\n",
       "    .dataframe thead th {\n",
       "        text-align: right;\n",
       "    }\n",
       "</style>\n",
       "<table border=\"1\" class=\"dataframe\">\n",
       "  <thead>\n",
       "    <tr style=\"text-align: right;\">\n",
       "      <th></th>\n",
       "      <th>Roadway Id</th>\n",
       "      <th>Intersecting Road</th>\n",
       "    </tr>\n",
       "  </thead>\n",
       "  <tbody>\n",
       "    <tr>\n",
       "      <th>0</th>\n",
       "      <td>EAST 17TH</td>\n",
       "      <td>NaN</td>\n",
       "    </tr>\n",
       "    <tr>\n",
       "      <th>1</th>\n",
       "      <td>E 3RD ST</td>\n",
       "      <td>NaN</td>\n",
       "    </tr>\n",
       "    <tr>\n",
       "      <th>2</th>\n",
       "      <td>SR46W</td>\n",
       "      <td>W ARLINGTON</td>\n",
       "    </tr>\n",
       "    <tr>\n",
       "      <th>3</th>\n",
       "      <td>N DUNN ST</td>\n",
       "      <td>E KIRKWOOD AVE</td>\n",
       "    </tr>\n",
       "    <tr>\n",
       "      <th>4</th>\n",
       "      <td>SR46W</td>\n",
       "      <td>DEER PARK</td>\n",
       "    </tr>\n",
       "    <tr>\n",
       "      <th>...</th>\n",
       "      <td>...</td>\n",
       "      <td>...</td>\n",
       "    </tr>\n",
       "    <tr>\n",
       "      <th>3641</th>\n",
       "      <td>I-69 MM 126.5</td>\n",
       "      <td>NaN</td>\n",
       "    </tr>\n",
       "    <tr>\n",
       "      <th>3642</th>\n",
       "      <td>N PETE ELLIS DR</td>\n",
       "      <td>E AMY LN</td>\n",
       "    </tr>\n",
       "    <tr>\n",
       "      <th>3643</th>\n",
       "      <td>W 20TH ST</td>\n",
       "      <td>W ARLINGTON RD</td>\n",
       "    </tr>\n",
       "    <tr>\n",
       "      <th>3644</th>\n",
       "      <td>E BETHEL LN</td>\n",
       "      <td>N STIDD DR</td>\n",
       "    </tr>\n",
       "    <tr>\n",
       "      <th>3645</th>\n",
       "      <td>N WALNUT ST</td>\n",
       "      <td>NaN</td>\n",
       "    </tr>\n",
       "  </tbody>\n",
       "</table>\n",
       "<p>3646 rows × 2 columns</p>\n",
       "</div>"
      ],
      "text/plain": [
       "           Roadway Id Intersecting Road\n",
       "0           EAST 17TH               NaN\n",
       "1            E 3RD ST               NaN\n",
       "2               SR46W       W ARLINGTON\n",
       "3           N DUNN ST    E KIRKWOOD AVE\n",
       "4               SR46W         DEER PARK\n",
       "...               ...               ...\n",
       "3641    I-69 MM 126.5               NaN\n",
       "3642  N PETE ELLIS DR          E AMY LN\n",
       "3643        W 20TH ST    W ARLINGTON RD\n",
       "3644      E BETHEL LN        N STIDD DR\n",
       "3645      N WALNUT ST               NaN\n",
       "\n",
       "[3646 rows x 2 columns]"
      ]
     },
     "execution_count": 2,
     "metadata": {},
     "output_type": "execute_result"
    }
   ],
   "source": [
    "# let's start with the 2022 data\n",
    "df = pd.read_csv('../data/source-data/moco-crash-2022.csv', \n",
    "                 usecols=['Roadway Id','Intersecting Road'],\n",
    "                )\n",
    "df"
   ]
  },
  {
   "cell_type": "code",
   "execution_count": 3,
   "id": "aab24535",
   "metadata": {},
   "outputs": [
    {
     "data": {
      "text/plain": [
       "array(['100 E. 6TH ST', '1000 N. WALNUT ST', '1011 W. 2ND ST', ...,\n",
       "       'WOODLAWN AVE', 'ZIKES RD S', nan], dtype=object)"
      ]
     },
     "execution_count": 3,
     "metadata": {},
     "output_type": "execute_result"
    }
   ],
   "source": [
    "# what are the unique roadway id values? what duplicates/bad formatting can we notice? \n",
    "df.sort_values('Roadway Id')['Roadway Id'].unique()"
   ]
  },
  {
   "cell_type": "code",
   "execution_count": 4,
   "id": "a8498b10",
   "metadata": {},
   "outputs": [
    {
     "data": {
      "text/plain": [
       "(1027,)"
      ]
     },
     "execution_count": 4,
     "metadata": {},
     "output_type": "execute_result"
    }
   ],
   "source": [
    "# how many unique values are there?\n",
    "df.sort_values('Roadway Id')['Roadway Id'].unique().shape"
   ]
  },
  {
   "cell_type": "code",
   "execution_count": 5,
   "id": "c581cbad",
   "metadata": {},
   "outputs": [],
   "source": [
    "# replace NA values with empty strings to make cleaning easier\n",
    "df['Roadway Id'] = df['Roadway Id'].fillna('')\n",
    "df['Intersecting Road'] = df['Intersecting Road'].fillna('')"
   ]
  },
  {
   "cell_type": "markdown",
   "id": "8fb273b2",
   "metadata": {},
   "source": [
    "To standardize the street addresses, I will use a string replace method. This is essentially a find and replace function. The replacement strings were compiled based on looking through the most common spellings of different roads."
   ]
  },
  {
   "cell_type": "code",
   "execution_count": 6,
   "id": "2d753a3f",
   "metadata": {},
   "outputs": [],
   "source": [
    "def replace_str(df, str1, str2):\n",
    "    return df.replace(to_replace=str1, value=str2, regex=True)"
   ]
  },
  {
   "cell_type": "code",
   "execution_count": 7,
   "id": "bf767c96",
   "metadata": {},
   "outputs": [],
   "source": [
    "# identify strings to replace \n",
    "strs_to_replace = [\n",
    "    ['BLOOMINGTON IN',''],\n",
    "    ['BLOOMINGTON, IN',''],\n",
    "    ['S\\. ', 'S '],\n",
    "    ['N\\. ', 'N '],\n",
    "    ['W\\. ', 'W '],\n",
    "    ['E\\.','E'],\n",
    "    ['SOUTH ', 'S '],\n",
    "    ['NORTH ', 'N '],\n",
    "    ['WEST ', 'W '],\n",
    "    ['EAST ', 'E '],\n",
    "    [' AVE\\.', 'AVE'],\n",
    "    ['AVENUE', 'AVE'],\n",
    "    ['STREET','ST'],\n",
    "    ['ST\\.','ST'],\n",
    "    ['PIKE', 'PK'],\n",
    "    ['ROAD','RD'],\n",
    "    ['STATE RD','ST RD'],\n",
    "    ['SR4','SR 4'],\n",
    "    ['THIRD', '3RD'],\n",
    "    [' 47401',''],\n",
    "    ['SR ','ST RD '],\n",
    "    ['46W', '46 W'],\n",
    "    ['45W', '45 W'],\n",
    "    ['STATE 46','ST RD 46'],\n",
    "    ['S\\.R\\.','ST RD'],\n",
    "    ['I 69','I-69'],\n",
    "    ['I69','I-69'],\n",
    "    ['INTERSTATE 69','I-69'],\n",
    "    ['I-69 SOUTH','I-69 S'],\n",
    "    ['SBOUND','S'],\n",
    "    ['S BOUND','S'],\n",
    "    ['S I-69','I-69 S'],\n",
    "    ['I-69N','I-69 N'],\n",
    "    ['JORDAN AVE','EAGLESON AVE'],\n",
    "    ['JORDAN','EAGLESON AVE'],\n",
    "    ['DRIVE','DR'],\n",
    "    ['LANE','LN'],\n",
    "    ['IN-45','ST RD 45'],\n",
    "    ['W ST RD 45/46 BYPASS','W ST RD 45/46'],\n",
    "    ['WMAIN','W MAIN'],\n",
    "    ['ROGERS RD','ROGERS ST'],\n",
    "    ['BLK ',''],\n",
    "    ['N JORDAN','N EAGLESON AVE'],\n",
    "    ['S JORDAN','S EAGLESON AVE'],\n",
    "    ['E3RD','E 3RD'],\n",
    "    ['W3RD','W 3RD'],\n",
    "    ['BLOCK ',''],\n",
    "    ['STRE','ST'],\n",
    "    ['E E','E '],\n",
    "    ['3RD AVE','3RD ST'],\n",
    "    ['PARKING LOT',''],\n",
    "    ['ST ST','ST'],\n",
    "    ['2ND AVE','2ND ST'],\n",
    "    ['W2ND','W 2ND'],\n",
    "    ['E2ND','E 2ND'],\n",
    "    ['E10TH','E 10TH'],\n",
    "    ['45-46','45/46'],\n",
    "    ['SR37','ST RD 37'],\n",
    "    ['SR37S','S ST RD 37'],\n",
    "    ['OLD SR37','ST RD 37'],\n",
    "    ['SR37N','N ST RD 37'],\n",
    "    ['OLD ST RD','ST RD'],\n",
    "    ['37 BUSINESS','37'],\n",
    "    ['37 HWY','37'],\n",
    "    ['HWY 37','ST RD 37'],\n",
    "    ['OLDSR37','ST RD 37'],\n",
    "    ['OLD 37','ST RD 37'],\n",
    "    ['ST RD 37S','S ST RD 37'],\n",
    "    ['ST RD 37N','N ST RD 37'],\n",
    "    ['37 RD','37'],\n",
    "    ['ST RD 37 S','S ST RD 37'],\n",
    "    ['ST RD 37 N','N ST RD 37'],\n",
    "    ['OLST RD 37','ST RD 37'],\n",
    "    ['BUSINESS 37','ST RD 37'],\n",
    "    ['US37','ST RD 37'],\n",
    "    ['ST RD 37 S HWY','S ST RD 37'],\n",
    "    ['ST RD 37 N RD','N ST RD 37'],\n",
    "    \n",
    "]"
   ]
  },
  {
   "cell_type": "code",
   "execution_count": 8,
   "id": "43c852a5",
   "metadata": {},
   "outputs": [],
   "source": [
    "clean_df = df\n",
    "\n",
    "for string in strs_to_replace:\n",
    "    clean_df = replace_str(clean_df,string[0],string[1])"
   ]
  },
  {
   "cell_type": "code",
   "execution_count": 9,
   "id": "8d26bdc8",
   "metadata": {},
   "outputs": [],
   "source": [
    "# extract the `101` from `101 E 2ND ST` and create a new column\n",
    "def extract_house_nums(road):\n",
    "    address_num_exists = False\n",
    "    if road:\n",
    "        # get the first word of the road name\n",
    "        first_word = road.split(\" \")[0]\n",
    "        # get the length of the road name. if there's only one number, we don't want to identify that as an address num.\n",
    "        road_len = len(road.split(\" \"))\n",
    "        if road_len > 1:\n",
    "            # if the first word is all numerals, the address num exists\n",
    "            address_num_exists = bool(re.search(\"^\\d+$\",first_word))\n",
    "    # if it exists, return the address num. if not, return an empty string.\n",
    "    return first_word if address_num_exists else ''\n"
   ]
  },
  {
   "cell_type": "code",
   "execution_count": 10,
   "id": "e3717284",
   "metadata": {},
   "outputs": [],
   "source": [
    "# All entries like `101 E 2ND ST` should be `E 2ND ST`\n",
    "def remove_house_nums(road):\n",
    "    address_num_exists = False\n",
    "    if road:\n",
    "        first_word = road.split(\" \")[0]\n",
    "        road_len = len(road.split(\" \"))\n",
    "        if road_len > 1:\n",
    "            address_num_exists = bool(re.search(\"^\\d+$\",first_word))\n",
    "    #         if the address num exists, remove it from the original address. else, return original address.\n",
    "    return \" \".join(road.split(\" \")[1:]) if address_num_exists else road"
   ]
  },
  {
   "cell_type": "code",
   "execution_count": 11,
   "id": "e2e3edbb",
   "metadata": {},
   "outputs": [],
   "source": [
    "# All entries like `S 17TH` should be `S 17TH ST`\n",
    "def clean_numbered_streets(road):\n",
    "    if road:\n",
    "        if bool(re.search('[\\d]{1,2}(TH|ST|ND|RD)$',road.strip())):\n",
    "            road = road.strip() + \" ST\"\n",
    "#         if bool(re.search('^[\\d]{1,2}(TH|ST|ND|RD)$',road)):\n",
    "#             road = \n",
    "    return road.strip()"
   ]
  },
  {
   "cell_type": "code",
   "execution_count": 12,
   "id": "6ac4a53f",
   "metadata": {},
   "outputs": [
    {
     "data": {
      "text/plain": [
       "'E 3RD ST'"
      ]
     },
     "execution_count": 12,
     "metadata": {},
     "output_type": "execute_result"
    }
   ],
   "source": [
    "clean_numbered_streets('E 3RD ')"
   ]
  },
  {
   "cell_type": "code",
   "execution_count": 13,
   "id": "cc9c98b2",
   "metadata": {},
   "outputs": [],
   "source": [
    "# remove info after semicolons or colons\n",
    "def remove_colons(road):\n",
    "    if road:\n",
    "        road = road.split(\";\")[0]\n",
    "        road = road.split(\":\")[0]\n",
    "    return road "
   ]
  },
  {
   "cell_type": "code",
   "execution_count": 14,
   "id": "2c3a5ff7",
   "metadata": {},
   "outputs": [],
   "source": [
    "clean_df['Address Number'] = clean_df['Roadway Id'].apply(extract_house_nums)\n",
    "clean_df['Roadway Id'] = clean_df['Roadway Id'].apply(remove_house_nums)\n",
    "clean_df['Roadway Id'] = clean_df['Roadway Id'].apply(clean_numbered_streets)\n",
    "clean_df['Roadway Id'] = clean_df['Roadway Id'].apply(remove_colons)"
   ]
  },
  {
   "cell_type": "code",
   "execution_count": 15,
   "id": "4fa0b5b3",
   "metadata": {
    "scrolled": true
   },
   "outputs": [
    {
     "data": {
      "text/plain": [
       "array(['', '10TH ST', '1110', '11TH ST', '17TH ST', '1ST ST',\n",
       "       '21N ANGELINA LN50', \"3200' S OF SMITHVILLE RD\", '37', '3RD ST',\n",
       "       '45', '45/46 BYPASS', '46', '69', '7TH ST',\n",
       "       'ACCESS DR TO HILLTOP GARDENS', 'ALEXANDER DR', 'ALLEN ST',\n",
       "       'ATWATER AVE', 'BALLANTINE RD', 'BAYLES', 'BEECHWOOD DR',\n",
       "       'BLK. S.OLIVE ST', 'BLOOMFIELD RD', 'CATHERINE ST',\n",
       "       'CENTENNIAL DR', 'CHAFIN CHAPEL', 'CHEEKWOOD LN', 'CHURCH LN',\n",
       "       'CLEAR CREEK TRAILHEAD NORTH', 'COLLEGE MALL RD', 'CONNAUGHT',\n",
       "       'CONNAUGHT RD', 'COTA DR', 'COUNTRY CLUB', 'CURRY PK',\n",
       "       'DANIELS WAY', 'DAVID BAKER AVE', 'DISCOVERY PARKWAY',\n",
       "       'DISCOVERY PKWY', 'DITTEMORE RD', 'DORCHESTER DR', 'E 10TH ST',\n",
       "       'E 11TH ST', 'E 12TH ST', 'E 13TH ST', 'E 14TH ST', 'E 15TH ST',\n",
       "       'E 16TH ST', 'E 17TH ST', 'E 19TH ST', 'E 1ST ST', 'E 20TH ST',\n",
       "       'E 2ND ST', 'E 3RD ST', 'E 4TH ST', 'E 6TH ST', 'E 7TH ST',\n",
       "       'E 8TH ST', 'E 9TH ST', 'E ALLEN ST', 'E ALLENDALE DR',\n",
       "       'E ANDERSON RD', 'E ATWATER', 'E ATWATER AVE', 'E AUTO MALL RD',\n",
       "       'E BETHEL LN', 'E BILL MALLORY BLVD', 'E BUICK CADILLAC BLVD',\n",
       "       'E BURKS DR', 'E CATHCART ST', 'E COTTAGE GROVE AVE',\n",
       "       'E COVENANTER DR', 'E CREEKS EDGE DR', 'E DANIEL ST', 'E DAVID DR',\n",
       "       'E DECKARD DR', 'E DEPOT RD', 'E DILLMAN RD', 'E DISCOVERTY PRKWY',\n",
       "       'E DISCOVERY PARKWAY', 'E DISCOVERY PKWY', 'E DODDS ST',\n",
       "       'E DRISCOLL DR', 'E GARDEN PATH', 'E GILBERT ST', 'E GLENDORA DR',\n",
       "       'E GOLDIN DR', 'E GOODNIGHT WAY', 'E GRAHAM PL', 'E GRIMES LN',\n",
       "       'E HEATHER DR', 'E HILLSIDE DR', 'E HILLSIDE DT', 'E HOLLAND DR',\n",
       "       'E HUNTER AVE', 'E JENNIFER DR', 'E JOHN HINKLE',\n",
       "       'E JOHN HINKLE PL', 'E JONES AVE', 'E KINGS RD', 'E KIRKWOOD AVE',\n",
       "       'E LAMPKINS RIDGE RD', 'E LAW LN', 'E LINGELBACH LN',\n",
       "       'E LONGVIEW AVE', 'E LORELEI WAY', 'E MAIN FORREST RD',\n",
       "       'E MAIN ST', 'E MATLOCK RD', 'E MATTLOCK RD', 'E MAXWELL LN',\n",
       "       'E MELROSE AVE', 'E MILLER DR', 'E MOFFETT LN', 'E MONROE DAM RD',\n",
       "       'E MOORES CREEK RD', 'E MOORES PK', 'E MORNINGSIDE DR', 'E N DR',\n",
       "       'E N SHORE DR', 'E OLD MYERS RD', 'E PARK LN', 'E PETE LLIS DR',\n",
       "       'E POINTE RD', 'E RAMP CREEK RD', 'E RAYLETOWN RD', 'E RHORER',\n",
       "       'E RHORER RD', 'E RIDGE CREST CT', 'E ROBINSON RD', 'E ROGERS',\n",
       "       'E ROGERS ST', 'E SAMPLE RD', 'E SARATOGA DR', 'E SCHACHT RD',\n",
       "       'E SMITH AVE', 'E SMITHVILLE RD', 'E SOUTHERN DR', 'E ST RD 45',\n",
       "       'E ST RD 45/46', 'E ST RD 45/46 BYPASS', 'E ST RD 46',\n",
       "       'E STIPP RD', 'E STRATUM WAY', 'E TAMARACK TRL', 'E TEMPERANCE ST',\n",
       "       'E THORNTON DR', 'E UNIVERSITY RD', 'E UNIVERSITY ST',\n",
       "       'E VARSITY LN', 'E WINDSOR DR', 'E WINSLOW RD', 'E WYLIE FARM RD',\n",
       "       'E WYLIE ST', 'E XETER LN', 'EAGLESON AVE', 'EARL YOUNG RD',\n",
       "       'EDGEWOOD DR', 'ENDWRIGHT LN', 'FAIRFAX RD', 'FLEENER AVE',\n",
       "       'FOREST RD', 'GARRISON CHAPEL', 'GATES DR', 'GIFFORD', 'GILMORE',\n",
       "       'GUTHRIE RD', 'HANDY RIDGE RD', 'HARMONY RD', 'HARTSTRAIT',\n",
       "       'HERITAGE WAY', 'HIGHLAND CT', 'HILLSIDE DR', 'I-69',\n",
       "       'I-69 - 123 - C', 'I-69 117 F', 'I-69 117.5', 'I-69 MM 126.5',\n",
       "       'I-69 N', 'I-69 N RAMP', 'I-69 N RAMP 117', 'I-69 NB',\n",
       "       'I-69 NORTHBOUND', 'I-69 NP RAMP 117', 'I-69 S', 'I-69 S 129.5',\n",
       "       'I-69 S RAMP', 'I-69 SB', 'I-69 SB OFF-RAMP',\n",
       "       'I-69 SB ON RAMP FROM 46', 'I-69 SB ON-RAMP', 'I-69-123-RAMP C',\n",
       "       'I-69117', 'IN 45 BYPASS', 'IN ST RD 46 W', 'INDUSTRIAL BLVD',\n",
       "       'ISON RD', 'JEFFREY RD', 'JENNER DR', 'KINSER PK',\n",
       "       'LARRY WAYNE DR', 'LEIGHTON LN', 'LEONARD SPRINGS RD',\n",
       "       'LIBERTY DR', 'LOUDEN RD', 'LOW GAP RD', 'MAIN', 'MAIN ST',\n",
       "       'MAPLE GROVE WEST', 'MARIE LN', 'MATTHEWS', 'MCNEELY',\n",
       "       'MORNINGSIDE DR', 'N ADAMS ST', 'N ARLINGTON PARK DR',\n",
       "       'N ARLINGTON PK DR', 'N BAKER AVE', 'N BLAIR AVE', 'N BOTTOM RD',\n",
       "       'N BROOKWOOD DR', 'N BUTCHER RD', 'N CAMPBELL ST', 'N COLLEGE AVE',\n",
       "       'N CRESTWOOD DR', 'N CROSSOVER RD', 'N CURRY PK', 'N DANIELS WAY',\n",
       "       'N DAVID BAKER AVE', 'N DEER PARK DR', 'N DISCOVERY PARKWAY',\n",
       "       'N DUNN ST', 'N DUNN ST EVOLVE APTS', 'N EAGLESON AVE', 'N FEE LN',\n",
       "       'N FESS AVE', 'N FORREST AVE', 'N GATES DR', 'N GATES DR.',\n",
       "       'N GRANT ST', 'N HARTSTRAIT RD', 'N HEADLEY RD', 'N ILLINOIS ST',\n",
       "       'N INDIANA AVE', 'N JACKSON ST', 'N JACOB DR', 'N JEFFERSON ST',\n",
       "       'N KINSER PK', 'N LAKEVIEW DR', 'N LEE PAUL RD', 'N LINCOLN',\n",
       "       'N LINCOLN ST', 'N LOESCH RD', 'N LOUDEN RD', 'N LYDY RD',\n",
       "       'N MADISON', 'N MADISON ST', 'N MAPLE ST', 'N MATHEWS DR',\n",
       "       'N MATTEWS DR', 'N MATTHEWS RD', 'N MILLER RD',\n",
       "       'N MILO B SAMPSON LN', 'N MONROE ST', 'N MORTON ST',\n",
       "       'N MOUNT GILEAD RD', 'N MT GILEAD', 'N MT GILEAD RD',\n",
       "       'N MT GILEAD TD', 'N MT TABOR', 'N MT TABOR RD', 'N OARD RD',\n",
       "       'N PACKING HOUSE RD', 'N PARK AVE', 'N PETE LLIS DR', 'N PINE ST',\n",
       "       'N PLYMOUTH RD', 'N PROW RD', 'N RANGE RD', 'N RIDGEWOOD DR',\n",
       "       'N ROGERS ST', 'N ROOSEVELT ST', 'N RUSSELL RD', 'N SALE ST',\n",
       "       'N SASSAFRAS DR', 'N SHELLY DR', 'N SHOWERS', 'N SHUFFLE CREEK RD',\n",
       "       'N SKYLINE DR', 'N SMITH PK', 'N SMITH RD', 'N ST RD 37',\n",
       "       'N ST RD 45/46 BYPASS', 'N ST RD 46', 'N ST RD 69',\n",
       "       'N STINESVILLE', 'N STINESVILLE RD', 'N STONE MILL RD',\n",
       "       'N STONELAKE DR', 'N SUMMIT ST', 'N SUNRISE DR', 'N TELLURIDE ST',\n",
       "       'N TEXAS RIDGE RD', 'N THOMAS RD', 'N THOMPSON RD',\n",
       "       'N THOMPSON RIDGE RD', 'N THORNTREE DR', 'N TUNNEL RD',\n",
       "       'N UNION CT', 'N UNION ST', 'N UNION VALLEY', 'N UNION VALLEY RD',\n",
       "       'N UPPER BIRDIE GALYAN RD', 'N WALNUT', 'N WALNUT GROVE AVE',\n",
       "       'N WALNUT ST', 'N WALNUT ST1', 'N WASHINGTON ST', 'N WAYPORT RD',\n",
       "       'N WILLIS DR', 'N WILLOW BEND', 'N WOODBRIDGE DR',\n",
       "       'N WOODBURN AVE', 'N WOODLAWN AVE', 'PATTERSON DR', 'PAYNETOWN RD',\n",
       "       'PAYNETOWN RD.', 'PETE LLIS', 'PETE LLIS DR', 'PINEHURST DR',\n",
       "       'PINEMEADOW DR', 'POINTE RD', 'POPLAR CIR', 'RAMP I-69-125-G',\n",
       "       'RED ROCK RD', 'RHORER RD', 'RICHLAND PLAZA',\n",
       "       'RICHLAND PLAZA DRIVWE', 'ROCKPORT', 'ROGERS ST', 'RUBY LN',\n",
       "       'S 5TH ST', 'S ACADIA CT', 'S ADAMS ST', 'S AIRLINE RD',\n",
       "       'S ARBORS LN', 'S AUTO MALL RD', 'S AZALEA LN', 'S BAINBRIDGE DR',\n",
       "       'S BALLANTINE RD', 'S BASSWOOD DR', 'S BASSWOOD DR APT B',\n",
       "       'S BREEDEN RD', 'S BRENDA LN', 'S BRYAN ST', 'S BUFFSTONE CT',\n",
       "       'S BUNGER RD', 'S CLARIZ BLVD', 'S CLARIZZ BLVD', 'S COLLEGE AVE',\n",
       "       'S COLLEGE MALL', 'S COLLEGE MALL R', 'S COLLEGE MALL RD',\n",
       "       'S COLLEGE MALL RD.', 'S COPPER BEECH WAY', 'S CORY LN',\n",
       "       'S CURRY PK', 'S DAVISSON ST', 'S DEBORAH DR', 'S DEER TRCE',\n",
       "       'S DERBY DR', 'S DR', 'S DUNCAN RD', 'S DUNLAP RD', 'S DUNN ST',\n",
       "       'S EAGLESON AVE', 'S EAGLEVIEW DR', 'S EDGEWOOD DR',\n",
       "       'S ELEMENT WAY', 'S ENDWRIGHT RD', 'S FAIRFAX', 'S FAIRFAX RD',\n",
       "       'S FAIRVIEW ST', 'S FENBROOK LN', 'S FESS AVE', 'S FRANKLIN RD',\n",
       "       'S GARRISON CHAPEL RD', 'S GLASGOW CIR', 'S GRANT ST',\n",
       "       'S GRAYWELL DR', 'S HARMONY', 'S HARMONY RD', 'S HARRELL RD',\n",
       "       'S HAWTHORNE DR', 'S HENDERSON', 'S HENDERSON ST', 'S HIGH ST',\n",
       "       'S HIGHLAND AVE', 'S HOFF LN', 'S HUNTINGTON DR', 'S HWY 446',\n",
       "       'S IN 46', 'S INDIANA AVE', 'S ISON RD', 'S JEFFERSON ST',\n",
       "       'S KEGG RD', 'S KENDALL DR', 'S KENNEDY DR', 'S KIMBLE DR',\n",
       "       'S KINGSTON DR', 'S KIRBY', 'S KIRBY RD', 'S LAKE RIDGE',\n",
       "       'S LANDMARK AVE', 'S LEONARD SPRINGS RD', 'S LIBERTY DR',\n",
       "       'S LIBERTY DR.', 'S LINCOLN ST', 'S LODGE RD', 'S MADISON ST',\n",
       "       'S MARKET PL', 'S MEADOWBROOK DR', 'S MILTON DR', 'S MITCHELL ST',\n",
       "       'S MONON DR', 'S MONROE MEDICAL PARK BLVD', 'S MORTON ST',\n",
       "       'S MULLER PARKWAY', 'S MULLER PKWY', 'S MULLER PKWY LOT 17',\n",
       "       'S OAKLAWN CIRCLE', 'S OLIVE ST', 'S OVERHILL DR', 'S PALMER AVE',\n",
       "       'S PAPER BIRCH CT', 'S PARK AVE', 'S PARK RIDGE RD',\n",
       "       'S PATTERSON DR', 'S PECAN LN', 'S PETE LLIS DR',\n",
       "       'S PETE LLIS DR  47408', 'S PIAZZA DR', 'S RAMSEY DR',\n",
       "       'S REISNER RD', 'S RENWICK BLVD', 'S REX GROSSMAN BLVD',\n",
       "       'S ROCKPORT RD', 'S ROGERS', 'S ROGERS ST', 'S ROLLING RIDGE WAY',\n",
       "       'S ROSE AVE', 'S SALE ST', 'S SARE RD', 'S SIMS LN', 'S SMITH RD',\n",
       "       'S SNODDY RD', 'S SOCIETY LN', 'S SPICEWOOD LN', 'S ST RD',\n",
       "       'S ST RD 37', 'S ST RD 446', 'S ST RD 45/46 BYPASS', 'S ST RD 46',\n",
       "       'S ST RD. 37', 'S STRAIN RIDGE RD', 'S STRAINRIDGE RD',\n",
       "       'S STRONG DR', 'S STULL AVE', 'S SUGAR MAPLE CT', 'S SWAIN AVE',\n",
       "       'S TARZIAN LN', 'S TULIP AVE', 'S UNION ST', 'S VICTOR PK',\n",
       "       'S VILLAGE DR', 'S WALNUT', 'S WALNUT SPRINGS DR', 'S WALNUT ST',\n",
       "       'S WALNUT ST PK', 'S WALNUT ST SUITE D', 'S WASHINGTON',\n",
       "       'S WASHINGTON ST', 'S WEIMER RD', 'S WESTMONT', 'S WESTPLEX AVE',\n",
       "       'S WESTWOOD DR', 'S WICKENS ST', 'S WILLIAMSBURG DR',\n",
       "       'S WINFIELD RD', 'S WINRIDGE CT', 'S WINSLOW CT', 'S WISLEY LN',\n",
       "       'S WOODLAWN AVE', 'S WOODSCREST', 'S WOODSCREST DR', 'S YOST AVE',\n",
       "       'SALE', 'SARE RD', 'SB ON-RAMP I-69', 'SECOND', 'SERVICE RD',\n",
       "       'SHELLY', 'SHIELD RIDGE RD', 'SHILO RD', 'SR', 'ST RD 37',\n",
       "       \"ST RD 37 3800' N OF INGRAM RD\", \"ST RD 37 5280' N OF ZIKES RD\",\n",
       "       'ST RD 446', 'ST RD 45', 'ST RD 45 46', 'ST RD 45 E', 'ST RD 45 W',\n",
       "       'ST RD 45/46', 'ST RD 45/46 BYPASS', 'ST RD 46', 'ST RD 46 W',\n",
       "       'ST RD 46 WEST', 'ST RD 48', 'STATE HIGH 46', 'STONEGATE DR',\n",
       "       'SWARTZ RIDGE RD', 'TEMPERANCE', 'TEMPERANCE ST', 'TEMPERTANCE',\n",
       "       'TEXAS RIDGE', 'TOWER RIDGE RD', 'TRAILRIDGE RD', 'UNION VALLEY',\n",
       "       'UNIVERSITY RD', 'VALLEY MISSION RD', 'VERNAL', 'W 10TH ST',\n",
       "       'W 11TH ST', 'W 12 ST', 'W 12TH ST', 'W 13TH ST', 'W 14TH ST',\n",
       "       'W 15TH ST', 'W 16TH ST', 'W 17TH ST', 'W 1ST ST', 'W 20TH ST',\n",
       "       'W 2ND ST', 'W 3RD ST', 'W 4TH ST', 'W 6TH ST', 'W 7TH ST',\n",
       "       'W 8TH ST', 'W 9TH ST', 'W AIRPORT RD', 'W ALLEN ST',\n",
       "       'W APPLE TREE CT', 'W ARLINGTON RD', 'W ARLINGTON VALLEY DR',\n",
       "       'W ASSOCIATION ST', 'W BAYLES RD', 'W BELLE AVE',\n",
       "       'W BLOOMFIELD RD', 'W BLOOMFIELD RD ENTRANCE NORTHBOUND &I-69-37',\n",
       "       'W BRIGHTON RD', 'W BROOKWOOD CT', 'W CEDAR CHASE RD',\n",
       "       'W CHAFIN CHAPEL RD', 'W CHEROKEE DR', 'W CHURCH LN',\n",
       "       'W CLUB HOUSE DR', 'W COOLIDGE DR', 'W COTA DR',\n",
       "       'W COUNTRY CLUB DR', 'W COUNTRYSIDE LN', 'W CURRY PK',\n",
       "       'W DELAP RD', 'W DILLMAN RD', 'W DIXIE ST', 'W DODDS ST',\n",
       "       'W DRISCOLL ST', 'W DUNCAN DR', 'W DUVALL RD', 'W EZEKIEL DR',\n",
       "       'W FARMER AVE', 'W FLUCK MILL', 'W FLUCK MILL RD',\n",
       "       'W FOSTER CURRY RD', 'W FOUNTAIN DR', 'W FULLERTON PK',\n",
       "       'W GARDNER RD', 'W GATEWOOD DR', 'W GEORGIA AVE', 'W GIFFORD RD',\n",
       "       'W GORDON PK', 'W GOURLEY PK', 'W GRANITE DR', 'W GRIMES LN',\n",
       "       'W GRIMES ST', 'W HEDGEWOOD DR', 'W HENNESSEY ST', 'W HILLSIDE DR',\n",
       "       'W HINDS RD', 'W HOWE ST', 'W ILLINOIS CT', 'W IN ST RD 46',\n",
       "       'W INDUSTRIAL BLVD', 'W JACOB DR', 'W JULIES WAY',\n",
       "       'W KARST FARM PARK DR', 'W KIRKWOOD AVE', 'W KIRWOOD AVE',\n",
       "       'W KOONTZ RD', 'W LEGACY LN', 'W LEONARD SPRINGS RD', 'W LILAC LN',\n",
       "       'W LOST MANS LN', 'W MAIN ST', 'W MALLORY RD', 'W MAPLE GROVE RD',\n",
       "       'W MARBLE LN', 'W MARLENE DR', 'W MARQUIS DR', 'W MAY RD',\n",
       "       'W MCNEELY', 'W MCNEELY ST', 'W MERRY WAY LN', 'W MILIEU DR',\n",
       "       'W MORAVEC WAY', 'W NORTHLN DR', 'W OLD CAPITOL PK',\n",
       "       'W PARRISH RD', 'W PATTERSON DR', 'W PERRY DR', 'W POPCORN RD',\n",
       "       'W PROFILE PKWY', 'W RATLIFF RD', 'W REEVES', 'W REEVES RD',\n",
       "       'W RICE RD', 'W RICHLAND PLAZA DR', 'W RICHLAND PLZ', 'W RITTER',\n",
       "       'W RUNKLE WAY', 'W SIMPSON CHAPEL RD', 'W SMITH AVE',\n",
       "       'W SMITHVILLE RD', 'W SOUTHERN DR', 'W ST RD 45',\n",
       "       'W ST RD 45 WALMART', 'W ST RD 45/46', 'W ST RD 46', 'W ST RD 48',\n",
       "       'W ST RD. 46', 'W SUNSTONE DR', 'W SYLVAN LN', 'W TAPP RD',\n",
       "       'W TEMPERANCE', 'W TEMPERANCE ST', 'W THAT RD', 'W VERNAL',\n",
       "       'W VERNAL PK', 'W VINE', 'W VINE ST', 'W WALKER LN',\n",
       "       'W WHITEHALL CROSSING BLVD', 'W WILLIAMS RD', 'W WOODHAVEN DR',\n",
       "       'W WOODYARD RD', 'W, ST RD 45', 'W.17TH ST', 'W17TH ST', 'WALNUT',\n",
       "       'WALNUT ST', 'WAPEHANI', 'WASHINGTON ST', 'WATER ST', 'WAYPORT RD',\n",
       "       'WESTERN DR', 'WOODHAVEN DR', 'WOODLAWN AVE', 'ZIKES RD S'],\n",
       "      dtype=object)"
      ]
     },
     "execution_count": 15,
     "metadata": {},
     "output_type": "execute_result"
    }
   ],
   "source": [
    "clean_df.sort_values('Roadway Id')['Roadway Id'].unique()"
   ]
  },
  {
   "cell_type": "code",
   "execution_count": 16,
   "id": "a2f515ac",
   "metadata": {},
   "outputs": [
    {
     "data": {
      "text/plain": [
       "(1027, 678)"
      ]
     },
     "execution_count": 16,
     "metadata": {},
     "output_type": "execute_result"
    }
   ],
   "source": [
    "# how many unique values are there before/after cleaning?\n",
    "df.sort_values('Roadway Id')['Roadway Id'].unique().shape[0],clean_df.sort_values('Roadway Id')['Roadway Id'].unique().shape[0]\n"
   ]
  }
 ],
 "metadata": {
  "kernelspec": {
   "display_name": "Python 3 (ipykernel)",
   "language": "python",
   "name": "python3"
  },
  "language_info": {
   "codemirror_mode": {
    "name": "ipython",
    "version": 3
   },
   "file_extension": ".py",
   "mimetype": "text/x-python",
   "name": "python",
   "nbconvert_exporter": "python",
   "pygments_lexer": "ipython3",
   "version": "3.9.12"
  }
 },
 "nbformat": 4,
 "nbformat_minor": 5
}
