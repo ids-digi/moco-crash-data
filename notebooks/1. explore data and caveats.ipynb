{
 "cells": [
  {
   "cell_type": "markdown",
   "id": "4de906de",
   "metadata": {},
   "source": [
    "# Monroe County crash data exploration\n",
    "Preliminary cleaning/exploring the car crash data for Monroe County, IN. (https://data.bloomington.in.gov/dataset/traffic-data)\n",
    "\n",
    "This notebook will start by looking at the 2022 data, saved in the `source-data` file as `moco-crash-2022.csv`. We will see what information this data can show, and explain some caveats."
   ]
  },
  {
   "cell_type": "code",
   "execution_count": 1,
   "id": "842ca848",
   "metadata": {},
   "outputs": [],
   "source": [
    "import pandas as pd\n",
    "from matplotlib import pyplot as plt\n",
    "import numpy as np\n",
    "import re\n",
    "from datetime import date, time\n",
    "\n",
    "pd.set_option('display.max_columns', None)"
   ]
  },
  {
   "cell_type": "code",
   "execution_count": 2,
   "id": "f2d8fc29",
   "metadata": {},
   "outputs": [
    {
     "data": {
      "text/plain": [
       "Agency                       object\n",
       "Local Code                   object\n",
       "County                       object\n",
       "Township                     object\n",
       "City                         object\n",
       "Collision Date               object\n",
       "Collision Time               object\n",
       "Vehicles Involved             int64\n",
       "Trailers Involved           float64\n",
       "Number Injured                int64\n",
       "Number Dead                   int64\n",
       "Number Deer                   int64\n",
       "House Number                 object\n",
       "Roadway Name                 object\n",
       "Roadway Suffix               object\n",
       "Roadway Number               object\n",
       "Roadway Interchange          object\n",
       "Roadway Ramp                 object\n",
       "Roadway Id                   object\n",
       "Intersecting Road            object\n",
       "Intersecting Road Number    float64\n",
       "Mile Marker                 float64\n",
       "Interchange                 float64\n",
       "Corporate Limits?            object\n",
       "Property Type                object\n",
       "Feet From                   float64\n",
       "Direction                    object\n",
       "Latitude                    float64\n",
       "Longitude                   float64\n",
       "Roadway Class                object\n",
       "Traffic Control Devices?     object\n",
       "Aggressive Driving?          object\n",
       "Hit and Run?                 object\n",
       "Locality                     object\n",
       "School Zone?                 object\n",
       "Rumble Strips?               object\n",
       "Construction?                object\n",
       "Construction Type            object\n",
       "Light Condition              object\n",
       "Weather Conditions           object\n",
       "Surface Condition            object\n",
       "Type of Median              float64\n",
       "Roadway Junction Type        object\n",
       "Road Character               object\n",
       "Roadway Surface              object\n",
       "Primary Factor               object\n",
       "Damage Estimate              object\n",
       "Manner of Collision          object\n",
       "Unique Location Id           object\n",
       "State Property Damage?        int64\n",
       "Traffic Control              object\n",
       "dtype: object"
      ]
     },
     "execution_count": 2,
     "metadata": {},
     "output_type": "execute_result"
    }
   ],
   "source": [
    "# read in the csv\n",
    "crash_df = pd.read_csv('../data/source-data/moco-crash-2022.csv')  \n",
    "# take a look at the data types to see what is included in the data\n",
    "crash_df.dtypes"
   ]
  },
  {
   "cell_type": "code",
   "execution_count": 3,
   "id": "ae03d73e",
   "metadata": {},
   "outputs": [
    {
     "data": {
      "text/html": [
       "<div>\n",
       "<style scoped>\n",
       "    .dataframe tbody tr th:only-of-type {\n",
       "        vertical-align: middle;\n",
       "    }\n",
       "\n",
       "    .dataframe tbody tr th {\n",
       "        vertical-align: top;\n",
       "    }\n",
       "\n",
       "    .dataframe thead th {\n",
       "        text-align: right;\n",
       "    }\n",
       "</style>\n",
       "<table border=\"1\" class=\"dataframe\">\n",
       "  <thead>\n",
       "    <tr style=\"text-align: right;\">\n",
       "      <th></th>\n",
       "      <th>Vehicles Involved</th>\n",
       "      <th>Trailers Involved</th>\n",
       "      <th>Number Injured</th>\n",
       "      <th>Number Dead</th>\n",
       "      <th>Number Deer</th>\n",
       "      <th>Intersecting Road Number</th>\n",
       "      <th>Mile Marker</th>\n",
       "      <th>Interchange</th>\n",
       "      <th>Feet From</th>\n",
       "      <th>Latitude</th>\n",
       "      <th>Longitude</th>\n",
       "      <th>Type of Median</th>\n",
       "      <th>State Property Damage?</th>\n",
       "    </tr>\n",
       "  </thead>\n",
       "  <tbody>\n",
       "    <tr>\n",
       "      <th>count</th>\n",
       "      <td>3646.000000</td>\n",
       "      <td>108.000000</td>\n",
       "      <td>3646.000000</td>\n",
       "      <td>3646.000000</td>\n",
       "      <td>3646.000000</td>\n",
       "      <td>0.0</td>\n",
       "      <td>95.000000</td>\n",
       "      <td>0.0</td>\n",
       "      <td>3572.000000</td>\n",
       "      <td>3559.000000</td>\n",
       "      <td>3559.000000</td>\n",
       "      <td>0.0</td>\n",
       "      <td>3646.000000</td>\n",
       "    </tr>\n",
       "    <tr>\n",
       "      <th>mean</th>\n",
       "      <td>1.797861</td>\n",
       "      <td>0.009259</td>\n",
       "      <td>0.247394</td>\n",
       "      <td>0.003566</td>\n",
       "      <td>0.048272</td>\n",
       "      <td>NaN</td>\n",
       "      <td>120.449474</td>\n",
       "      <td>NaN</td>\n",
       "      <td>93.594625</td>\n",
       "      <td>37.857818</td>\n",
       "      <td>-83.649525</td>\n",
       "      <td>NaN</td>\n",
       "      <td>0.024959</td>\n",
       "    </tr>\n",
       "    <tr>\n",
       "      <th>std</th>\n",
       "      <td>0.546349</td>\n",
       "      <td>0.096225</td>\n",
       "      <td>0.596940</td>\n",
       "      <td>0.059614</td>\n",
       "      <td>0.215646</td>\n",
       "      <td>NaN</td>\n",
       "      <td>101.542324</td>\n",
       "      <td>NaN</td>\n",
       "      <td>340.795100</td>\n",
       "      <td>7.043217</td>\n",
       "      <td>15.560970</td>\n",
       "      <td>NaN</td>\n",
       "      <td>0.166237</td>\n",
       "    </tr>\n",
       "    <tr>\n",
       "      <th>min</th>\n",
       "      <td>0.000000</td>\n",
       "      <td>0.000000</td>\n",
       "      <td>0.000000</td>\n",
       "      <td>0.000000</td>\n",
       "      <td>0.000000</td>\n",
       "      <td>NaN</td>\n",
       "      <td>0.000000</td>\n",
       "      <td>NaN</td>\n",
       "      <td>0.000000</td>\n",
       "      <td>0.000000</td>\n",
       "      <td>-94.221107</td>\n",
       "      <td>NaN</td>\n",
       "      <td>0.000000</td>\n",
       "    </tr>\n",
       "    <tr>\n",
       "      <th>25%</th>\n",
       "      <td>1.000000</td>\n",
       "      <td>0.000000</td>\n",
       "      <td>0.000000</td>\n",
       "      <td>0.000000</td>\n",
       "      <td>0.000000</td>\n",
       "      <td>NaN</td>\n",
       "      <td>106.250000</td>\n",
       "      <td>NaN</td>\n",
       "      <td>0.000000</td>\n",
       "      <td>39.146647</td>\n",
       "      <td>-86.569313</td>\n",
       "      <td>NaN</td>\n",
       "      <td>0.000000</td>\n",
       "    </tr>\n",
       "    <tr>\n",
       "      <th>50%</th>\n",
       "      <td>2.000000</td>\n",
       "      <td>0.000000</td>\n",
       "      <td>0.000000</td>\n",
       "      <td>0.000000</td>\n",
       "      <td>0.000000</td>\n",
       "      <td>NaN</td>\n",
       "      <td>115.000000</td>\n",
       "      <td>NaN</td>\n",
       "      <td>0.000000</td>\n",
       "      <td>39.164462</td>\n",
       "      <td>-86.533720</td>\n",
       "      <td>NaN</td>\n",
       "      <td>0.000000</td>\n",
       "    </tr>\n",
       "    <tr>\n",
       "      <th>75%</th>\n",
       "      <td>2.000000</td>\n",
       "      <td>0.000000</td>\n",
       "      <td>0.000000</td>\n",
       "      <td>0.000000</td>\n",
       "      <td>0.000000</td>\n",
       "      <td>NaN</td>\n",
       "      <td>123.000000</td>\n",
       "      <td>NaN</td>\n",
       "      <td>0.000000</td>\n",
       "      <td>39.176639</td>\n",
       "      <td>-86.512502</td>\n",
       "      <td>NaN</td>\n",
       "      <td>0.000000</td>\n",
       "    </tr>\n",
       "    <tr>\n",
       "      <th>max</th>\n",
       "      <td>8.000000</td>\n",
       "      <td>1.000000</td>\n",
       "      <td>7.000000</td>\n",
       "      <td>1.000000</td>\n",
       "      <td>2.000000</td>\n",
       "      <td>NaN</td>\n",
       "      <td>920.000000</td>\n",
       "      <td>NaN</td>\n",
       "      <td>9500.000000</td>\n",
       "      <td>42.845800</td>\n",
       "      <td>0.000000</td>\n",
       "      <td>NaN</td>\n",
       "      <td>4.000000</td>\n",
       "    </tr>\n",
       "  </tbody>\n",
       "</table>\n",
       "</div>"
      ],
      "text/plain": [
       "       Vehicles Involved  Trailers Involved  Number Injured  Number Dead  \\\n",
       "count        3646.000000         108.000000     3646.000000  3646.000000   \n",
       "mean            1.797861           0.009259        0.247394     0.003566   \n",
       "std             0.546349           0.096225        0.596940     0.059614   \n",
       "min             0.000000           0.000000        0.000000     0.000000   \n",
       "25%             1.000000           0.000000        0.000000     0.000000   \n",
       "50%             2.000000           0.000000        0.000000     0.000000   \n",
       "75%             2.000000           0.000000        0.000000     0.000000   \n",
       "max             8.000000           1.000000        7.000000     1.000000   \n",
       "\n",
       "       Number Deer  Intersecting Road Number  Mile Marker  Interchange  \\\n",
       "count  3646.000000                       0.0    95.000000          0.0   \n",
       "mean      0.048272                       NaN   120.449474          NaN   \n",
       "std       0.215646                       NaN   101.542324          NaN   \n",
       "min       0.000000                       NaN     0.000000          NaN   \n",
       "25%       0.000000                       NaN   106.250000          NaN   \n",
       "50%       0.000000                       NaN   115.000000          NaN   \n",
       "75%       0.000000                       NaN   123.000000          NaN   \n",
       "max       2.000000                       NaN   920.000000          NaN   \n",
       "\n",
       "         Feet From     Latitude    Longitude  Type of Median  \\\n",
       "count  3572.000000  3559.000000  3559.000000             0.0   \n",
       "mean     93.594625    37.857818   -83.649525             NaN   \n",
       "std     340.795100     7.043217    15.560970             NaN   \n",
       "min       0.000000     0.000000   -94.221107             NaN   \n",
       "25%       0.000000    39.146647   -86.569313             NaN   \n",
       "50%       0.000000    39.164462   -86.533720             NaN   \n",
       "75%       0.000000    39.176639   -86.512502             NaN   \n",
       "max    9500.000000    42.845800     0.000000             NaN   \n",
       "\n",
       "       State Property Damage?  \n",
       "count             3646.000000  \n",
       "mean                 0.024959  \n",
       "std                  0.166237  \n",
       "min                  0.000000  \n",
       "25%                  0.000000  \n",
       "50%                  0.000000  \n",
       "75%                  0.000000  \n",
       "max                  4.000000  "
      ]
     },
     "execution_count": 3,
     "metadata": {},
     "output_type": "execute_result"
    }
   ],
   "source": [
    "crash_df.describe()"
   ]
  },
  {
   "cell_type": "markdown",
   "id": "07218153",
   "metadata": {},
   "source": [
    "Looks like we've got a dataset with 3,057 records. Each car crash has info about when it happened, where it happened and how it happened. There are several different columns describing the location/conditions, including `Roadway Class`, `Construction?`, `School Zone?` and `Number Deer`. There's also latitude and longitude for most rows, which will be helpful for mapping the crashes. \n",
    "\n",
    "I'm intrigued by the `Number Deer` category — it seems like deer-involved crashes must happen a lot to be included in this city dataset."
   ]
  },
  {
   "cell_type": "code",
   "execution_count": 4,
   "id": "d3de5b37",
   "metadata": {},
   "outputs": [
    {
     "data": {
      "text/plain": [
       "0.047997805814591336"
      ]
     },
     "execution_count": 4,
     "metadata": {},
     "output_type": "execute_result"
    }
   ],
   "source": [
    "crash_df['Number Deer'].where(crash_df['Number Deer'] > 0).count() / crash_df['Number Deer'].count()"
   ]
  },
  {
   "cell_type": "markdown",
   "id": "2ea64487",
   "metadata": {},
   "source": [
    "Looks like deer were involved in 4.8% of crashes last year. Interesting!"
   ]
  },
  {
   "cell_type": "markdown",
   "id": "460c96b1",
   "metadata": {},
   "source": [
    "Let's see how many records actually have latitude/longitude coordinates. Missing data will affect the robustness of mapping visualizations when visualizing this dataset."
   ]
  },
  {
   "cell_type": "code",
   "execution_count": 5,
   "id": "13433cbb",
   "metadata": {},
   "outputs": [
    {
     "name": "stdout",
     "output_type": "stream",
     "text": [
      "Total rows: 3646 \n",
      "Rows w lat/lon: 3559\n",
      "% w lat/lon: 97.61%\n"
     ]
    }
   ],
   "source": [
    "print('Total rows:', crash_df.shape[0], '\\nRows w lat/lon:', crash_df['Latitude'].dropna().count())\n",
    "print('% w lat/lon:', \"{0:.2f}\".format( crash_df['Latitude'].dropna().count() / crash_df.shape[0] * 100) + \"%\")"
   ]
  },
  {
   "cell_type": "markdown",
   "id": "79abea5b",
   "metadata": {},
   "source": [
    "The vast majority have lat/lon data for last year, so that's great!\n",
    "\n",
    "Let's take a closer look at some of the columns, and see how useful they might be."
   ]
  },
  {
   "cell_type": "code",
   "execution_count": 6,
   "id": "f8639011",
   "metadata": {},
   "outputs": [
    {
     "data": {
      "text/plain": [
       "Agency                      3646\n",
       "Local Code                  3646\n",
       "County                      3646\n",
       "Township                    3577\n",
       "City                        3577\n",
       "Collision Date              3646\n",
       "Collision Time              3646\n",
       "Vehicles Involved           3646\n",
       "Trailers Involved            108\n",
       "Number Injured              3646\n",
       "Number Dead                 3646\n",
       "Number Deer                 3646\n",
       "House Number                 420\n",
       "Roadway Name                3582\n",
       "Roadway Suffix                63\n",
       "Roadway Number                56\n",
       "Roadway Interchange           25\n",
       "Roadway Ramp                  27\n",
       "Roadway Id                  3639\n",
       "Intersecting Road           2654\n",
       "Intersecting Road Number       0\n",
       "Mile Marker                   95\n",
       "Interchange                    0\n",
       "Corporate Limits?           3642\n",
       "Property Type                  9\n",
       "Feet From                   3572\n",
       "Direction                     34\n",
       "Latitude                    3559\n",
       "Longitude                   3559\n",
       "Roadway Class               3370\n",
       "Traffic Control Devices?      21\n",
       "Aggressive Driving?          109\n",
       "Hit and Run?                 108\n",
       "Locality                    3642\n",
       "School Zone?                3646\n",
       "Rumble Strips?              3646\n",
       "Construction?               3646\n",
       "Construction Type             44\n",
       "Light Condition             3646\n",
       "Weather Conditions          3646\n",
       "Surface Condition           3646\n",
       "Type of Median                 0\n",
       "Roadway Junction Type       3646\n",
       "Road Character               108\n",
       "Roadway Surface             3646\n",
       "Primary Factor              3630\n",
       "Damage Estimate             3646\n",
       "Manner of Collision         3636\n",
       "Unique Location Id          3640\n",
       "State Property Damage?      3646\n",
       "Traffic Control              108\n",
       "dtype: int64"
      ]
     },
     "execution_count": 6,
     "metadata": {},
     "output_type": "execute_result"
    }
   ],
   "source": [
    "crash_df.count()"
   ]
  },
  {
   "cell_type": "markdown",
   "id": "c4e1aa73",
   "metadata": {},
   "source": [
    "Several of these fields have very few entries, such as `Trailers Involved`, which only appears in <5% of the rows. Also, many of the fields aren't that useful, especially because their meaning can be ambiguous.\n",
    "\n",
    "Based on the counts alone, it seems like `Trailers Involved`, `Roadway Ramp`, `House Number`, `Roadway Interchange`, `Interchange`, `Direction`, `Construction Type`, `Type of Median`, and a few others won't be useful, because they just aren't applicable to most crashes, or they weren't recorded in most reports. \n",
    "\n",
    "A couple of fields with very few entries, like `Hit and Run?`, would still be useful though. Hit and run crashes are likely rare, so this field would only be filled out if the case was a hit and run, making this field still useful for analysis. \n",
    "\n",
    "But other fields are too ambiguous to be very useful. For example, based on interviews with Bloomington city employees, `Feet From` and `Direction` can be interpreted multiple ways by law enforcement officials who fill out crash reports. Some people interpret `Feet From` as the distance between the crash and the nearest intersection, and `Direction` as a reference point for where the crash happened in relation to that intersection. For example, if a crash happened 100 feet west of 1ST and DUNN ST, one officer might log `Direction` as `W` and `Feet From` as `100`. But another officer might just log the actual location with latitude and longitude, not labeling 1ST and DUNN ST, and not including `Direction` or `Feet From`. \n",
    "\n",
    "Based on confusion like this, the best way to analyze the geospatial distribution of the crashes is probably through mapping rather than analyzing variables like `Feet From` and `Direction`. \n",
    "\n",
    "This ambiguity is why the `master-crash.csv` file excludes most of the columns, instead just keeping the road name/latitude/longitude and a few key features like fatality and injury counts for mapping purposes. If you decide to analyze some of the other fields, be careful to make sure you understand some of the caveats, which are explained in more detail in the methodology + data dictionary of this project. "
   ]
  },
  {
   "cell_type": "markdown",
   "id": "ec43ad84",
   "metadata": {},
   "source": [
    "## Looking at older data"
   ]
  },
  {
   "cell_type": "markdown",
   "id": "888fa420",
   "metadata": {},
   "source": [
    "Now that we've assessed the basic features of the recent data, let's take a look at some older records. The structure of the data from the 2022 `csv` is very similar for years 2019-2021, but prior to 2018, the data looks pretty different, and from 2003-2015, it was extremely different. \n",
    "\n",
    "This means the older data can be difficult to compare with recent years, so it's best to be careful when looking at trends across the entire range of the data. \n",
    "\n",
    "Let's take a look at the 2003-2015 dataset to see some more of these caveats."
   ]
  },
  {
   "cell_type": "code",
   "execution_count": 7,
   "id": "300fea1e",
   "metadata": {},
   "outputs": [
    {
     "data": {
      "text/plain": [
       "Master Record Number      int64\n",
       "Year                      int64\n",
       "Month                     int64\n",
       "Day                       int64\n",
       "Weekend?                 object\n",
       "Hour                    float64\n",
       "Collision Type           object\n",
       "Injury Type              object\n",
       "Primary Factor           object\n",
       "Reported_Location        object\n",
       "Latitude                float64\n",
       "Longitude               float64\n",
       "dtype: object"
      ]
     },
     "execution_count": 7,
     "metadata": {},
     "output_type": "execute_result"
    }
   ],
   "source": [
    "# read in the csv\n",
    "crash_df_0315 = pd.read_csv('../data/source-data/moco-crash-2003-2015.csv', encoding='unicode_escape')  \n",
    "# take a look at the data types to see what is included in the data\n",
    "crash_df_0315.dtypes"
   ]
  },
  {
   "cell_type": "markdown",
   "id": "87f1ff77",
   "metadata": {},
   "source": [
    "It's immediately clear that there are way fewer fields in this dataset compared with 2022. But, some of these fields do offer more information that isn't available in more recent data, even if it might be a bit unclear. \n",
    "\n",
    "For example, this data doesn't have exact numbers for fatality or injury counts, but it offers a bit more information on the severity of injuries that resulted from crashes. "
   ]
  },
  {
   "cell_type": "code",
   "execution_count": 8,
   "id": "d69444e7",
   "metadata": {},
   "outputs": [
    {
     "data": {
      "text/plain": [
       "array(['No injury/unknown', 'Non-incapacitating', 'Incapacitating',\n",
       "       'Fatal'], dtype=object)"
      ]
     },
     "execution_count": 8,
     "metadata": {},
     "output_type": "execute_result"
    }
   ],
   "source": [
    "# what are the possible values for injury type?\n",
    "crash_df_0315['Injury Type'].unique()"
   ]
  },
  {
   "cell_type": "markdown",
   "id": "62c87cd9",
   "metadata": {},
   "source": [
    "While this way of recording makes it harder to compare the total number of injuries or deaths from these years, it does give more information about how severe a crash was which could be useful when analyzing this dataset by itself."
   ]
  },
  {
   "cell_type": "code",
   "execution_count": 9,
   "id": "f47f0419",
   "metadata": {},
   "outputs": [
    {
     "data": {
      "text/plain": [
       "array(['2-Car', '1-Car', '3+ Cars', 'Pedestrian', 'Cyclist', 'Bus',\n",
       "       'Moped/Motorcycle', nan], dtype=object)"
      ]
     },
     "execution_count": 9,
     "metadata": {},
     "output_type": "execute_result"
    }
   ],
   "source": [
    "# what are the values for `Collision Type`?\n",
    "crash_df_0315['Collision Type'].unique()"
   ]
  },
  {
   "cell_type": "markdown",
   "id": "1e004d9f",
   "metadata": {},
   "source": [
    "In a very similar way, the `Collision Type` field gives more information that's lacking in newer data. Namely, it flags which crashes involved pedestrians or cyclists, an important piece of data that is not automatically recorded by the newer crash reports. But, this field is still ambiguous, because if there was a crash that involved two vehicles, a pedestrian and a cyclist, it would be impossible to tell that from this data structure. We don't know how law enforcement made the decision of which value to encode for the crash, so it's unclear if pedestrian involvement would trump other flags in this category. \n",
    "\n",
    "However, this is still a useful way to get a bit more insight into pedestrian/cyclist involved crashes, even if it makes it harder to compare with recent data."
   ]
  },
  {
   "cell_type": "code",
   "execution_count": 10,
   "id": "ac681139",
   "metadata": {},
   "outputs": [
    {
     "data": {
      "text/plain": [
       "0.011289694677715366"
      ]
     },
     "execution_count": 10,
     "metadata": {},
     "output_type": "execute_result"
    }
   ],
   "source": [
    "# how many crashes involved a pedestrian from 2003-2015?\n",
    "crash_df_0315[crash_df_0315['Collision Type'] == 'Pedestrian'].shape[0] / crash_df_0315.shape[0]"
   ]
  },
  {
   "cell_type": "markdown",
   "id": "2eba865b",
   "metadata": {},
   "source": [
    "It looks like 1.1% of crashes over that time period were marked as pedestrian-involved crashes."
   ]
  },
  {
   "cell_type": "code",
   "execution_count": 11,
   "id": "b0eada79",
   "metadata": {},
   "outputs": [
    {
     "data": {
      "text/plain": [
       "<AxesSubplot:>"
      ]
     },
     "execution_count": 11,
     "metadata": {},
     "output_type": "execute_result"
    },
    {
     "data": {
      "image/png": "[encoded data removed]",
      "text/plain": [
       "<Figure size 432x288 with 1 Axes>"
      ]
     },
     "metadata": {
      "needs_background": "light"
     },
     "output_type": "display_data"
    }
   ],
   "source": [
    "crash_df_0315['Collision Type'].value_counts().plot(kind='bar')"
   ]
  }
 ],
 "metadata": {
  "kernelspec": {
   "display_name": "Python 3 (ipykernel)",
   "language": "python",
   "name": "python3"
  },
  "language_info": {
   "codemirror_mode": {
    "name": "ipython",
    "version": 3
   },
   "file_extension": ".py",
   "mimetype": "text/x-python",
   "name": "python",
   "nbconvert_exporter": "python",
   "pygments_lexer": "ipython3",
   "version": "3.9.12"
  }
 },
 "nbformat": 4,
 "nbformat_minor": 5
}
